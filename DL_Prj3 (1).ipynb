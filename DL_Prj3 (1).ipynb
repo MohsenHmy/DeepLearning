{
  "cells": [
    {
      "cell_type": "code",
      "execution_count": null,
      "metadata": {
        "colab": {
          "base_uri": "https://localhost:8080/"
        },
        "id": "nDMN-hNGfBjA",
        "outputId": "0cd53f14-ba2a-42ce-9692-40b4829d8da8"
      },
      "outputs": [
        {
          "output_type": "stream",
          "name": "stdout",
          "text": [
            "Requirement already satisfied: kaggle in /usr/local/lib/python3.11/dist-packages (1.6.17)\n",
            "Requirement already satisfied: six>=1.10 in /usr/local/lib/python3.11/dist-packages (from kaggle) (1.17.0)\n",
            "Requirement already satisfied: certifi>=2023.7.22 in /usr/local/lib/python3.11/dist-packages (from kaggle) (2024.12.14)\n",
            "Requirement already satisfied: python-dateutil in /usr/local/lib/python3.11/dist-packages (from kaggle) (2.8.2)\n",
            "Requirement already satisfied: requests in /usr/local/lib/python3.11/dist-packages (from kaggle) (2.32.3)\n",
            "Requirement already satisfied: tqdm in /usr/local/lib/python3.11/dist-packages (from kaggle) (4.67.1)\n",
            "Requirement already satisfied: python-slugify in /usr/local/lib/python3.11/dist-packages (from kaggle) (8.0.4)\n",
            "Requirement already satisfied: urllib3 in /usr/local/lib/python3.11/dist-packages (from kaggle) (2.3.0)\n",
            "Requirement already satisfied: bleach in /usr/local/lib/python3.11/dist-packages (from kaggle) (6.2.0)\n",
            "Requirement already satisfied: webencodings in /usr/local/lib/python3.11/dist-packages (from bleach->kaggle) (0.5.1)\n",
            "Requirement already satisfied: text-unidecode>=1.3 in /usr/local/lib/python3.11/dist-packages (from python-slugify->kaggle) (1.3)\n",
            "Requirement already satisfied: charset-normalizer<4,>=2 in /usr/local/lib/python3.11/dist-packages (from requests->kaggle) (3.4.1)\n",
            "Requirement already satisfied: idna<4,>=2.5 in /usr/local/lib/python3.11/dist-packages (from requests->kaggle) (3.10)\n"
          ]
        }
      ],
      "source": [
        "import os\n",
        "import re\n",
        "import torch\n",
        "import pickle\n",
        "import numpy as np\n",
        "import pandas as pd\n",
        "from tqdm import tqdm\n",
        "import torch.nn as nn\n",
        "from nltk.tokenize import word_tokenize\n",
        "from sklearn.metrics import accuracy_score\n",
        "from sklearn.preprocessing import LabelEncoder\n",
        "from sklearn.model_selection import train_test_split\n",
        "\n",
        "!pip install kaggle"
      ]
    },
    {
      "cell_type": "code",
      "execution_count": null,
      "metadata": {
        "colab": {
          "base_uri": "https://localhost:8080/"
        },
        "id": "PZOPyxYR0rkv",
        "outputId": "7ee2485f-c267-4e76-9491-694a2206a286"
      },
      "outputs": [
        {
          "output_type": "stream",
          "name": "stdout",
          "text": [
            "Mounted at /content/drive\n"
          ]
        }
      ],
      "source": [
        "from google.colab import drive\n",
        "drive.mount('/content/drive')"
      ]
    },
    {
      "cell_type": "code",
      "execution_count": null,
      "metadata": {
        "colab": {
          "base_uri": "https://localhost:8080/"
        },
        "id": "Hkk-QM2k1lzV",
        "outputId": "4413747c-50a9-423d-bd84-86453ad709f3"
      },
      "outputs": [
        {
          "output_type": "stream",
          "name": "stdout",
          "text": [
            "/content/drive/MyDrive/TextClassificationAttention\n"
          ]
        }
      ],
      "source": [
        "%cd /content/drive/MyDrive/TextClassificationAttention\n",
        "#!kaggle datasets download adityajn105/glove6b50d\n",
        "#!kaggle datasets download dushyantv/consumer_complaints"
      ]
    },
    {
      "cell_type": "code",
      "execution_count": null,
      "metadata": {
        "id": "e6zE_6crpcSY"
      },
      "outputs": [],
      "source": [
        "#!unzip consumer_complaints.zip\n",
        "#!unzip glove6b50d.zip"
      ]
    },
    {
      "cell_type": "code",
      "execution_count": null,
      "metadata": {
        "colab": {
          "base_uri": "https://localhost:8080/"
        },
        "id": "eFsdLDB0qG_A",
        "outputId": "6f5705a8-51fb-4617-a7f6-db641b0914b9"
      },
      "outputs": [
        {
          "output_type": "stream",
          "name": "stdout",
          "text": [
            "Index(['Date received', 'Product', 'Sub-product', 'Issue', 'Sub-issue',\n",
            "       'Consumer Complaint', 'Company Public Response', 'Company', 'State',\n",
            "       'ZIP code', 'Tags', 'Consumer consent provided?', 'Submitted via',\n",
            "       'Date Sent to Company', 'Company Response to Consumer',\n",
            "       'Timely response?', 'Consumer disputed?', 'Complaint ID',\n",
            "       'Unnamed: 18'],\n",
            "      dtype='object')\n",
            "  Date received           Product     Sub-product  \\\n",
            "0    03-12-2014          Mortgage  Other mortgage   \n",
            "1    10-01-2016  Credit reporting             NaN   \n",
            "2    10/17/2016     Consumer Loan    Vehicle loan   \n",
            "3    06-08-2014       Credit card             NaN   \n",
            "4    09/13/2014   Debt collection     Credit card   \n",
            "\n",
            "                                      Issue                   Sub-issue  \\\n",
            "0  Loan modification,collection,foreclosure                         NaN   \n",
            "1    Incorrect information on credit report              Account status   \n",
            "2                Managing the loan or lease                         NaN   \n",
            "3                                Bankruptcy                         NaN   \n",
            "4                     Communication tactics  Frequent or repeated calls   \n",
            "\n",
            "                                  Consumer Complaint  \\\n",
            "0                                                NaN   \n",
            "1  I have outdated information on my credit repor...   \n",
            "2  I purchased a new car on XXXX XXXX. The car de...   \n",
            "3                                                NaN   \n",
            "4                                                NaN   \n",
            "\n",
            "                             Company Public Response  \\\n",
            "0                                                NaN   \n",
            "1  Company has responded to the consumer and the ...   \n",
            "2                                                NaN   \n",
            "3                                                NaN   \n",
            "4                                                NaN   \n",
            "\n",
            "                                  Company State ZIP code            Tags  \\\n",
            "0                    M&T BANK CORPORATION    MI    48382             NaN   \n",
            "1  TRANSUNION INTERMEDIATE HOLDINGS, INC.    AL    352XX             NaN   \n",
            "2          CITIZENS FINANCIAL GROUP, INC.    PA    177XX  Older American   \n",
            "3                AMERICAN EXPRESS COMPANY    ID    83854  Older American   \n",
            "4                          CITIBANK, N.A.    VA    23233             NaN   \n",
            "\n",
            "  Consumer consent provided? Submitted via Date Sent to Company  \\\n",
            "0                        NaN      Referral           03/17/2014   \n",
            "1           Consent provided           Web           10-05-2016   \n",
            "2           Consent provided           Web           10/20/2016   \n",
            "3                        NaN           Web           06-10-2014   \n",
            "4                        NaN           Web           09/13/2014   \n",
            "\n",
            "  Company Response to Consumer Timely response? Consumer disputed?  \\\n",
            "0      Closed with explanation              Yes                 No   \n",
            "1      Closed with explanation              Yes                 No   \n",
            "2      Closed with explanation              Yes                 No   \n",
            "3      Closed with explanation              Yes                Yes   \n",
            "4      Closed with explanation              Yes                Yes   \n",
            "\n",
            "   Complaint ID  Unnamed: 18  \n",
            "0        759217          NaN  \n",
            "1       2141773          NaN  \n",
            "2       2163100          NaN  \n",
            "3        885638          NaN  \n",
            "4       1027760          NaN  \n"
          ]
        }
      ],
      "source": [
        "data = pd.read_csv(\"/content/drive/MyDrive/TextClassificationAttention/Consumer_Complaints.csv\")\n",
        "print(data.columns)\n",
        "print(data.head())\n"
      ]
    },
    {
      "cell_type": "markdown",
      "metadata": {
        "id": "2uwoUzvvnvn6"
      },
      "source": [
        "# Pre processing"
      ]
    },
    {
      "cell_type": "code",
      "execution_count": null,
      "metadata": {
        "id": "YVKD5cmEh50J"
      },
      "outputs": [],
      "source": [
        "lr = 0.0001\n",
        "vec_len = 50\n",
        "seq_len = 20\n",
        "num_epochs = 50\n",
        "label_col = \"Product\"\n",
        "tokens_path = \"/content/drive/MyDrive/TextClassificationAttention/tokens.pkl\"\n",
        "labels_path = \"/content/drive/MyDrive/TextClassificationAttention/labels.pkl\"\n",
        "data_path = \"/content/drive/MyDrive/TextClassificationAttention/Consumer_Complaints.csv\"\n",
        "model_path = \"/content/drive/MyDrive/TextClassificationAttention/attention.pth\"\n",
        "model_path_multihead = \"/content/drive/MyDrive/TextClassificationAttention/multihead.pth\"\n",
        "vocabulary_path = \"/content/drive/MyDrive/TextClassificationAttention/vocabulary.pkl\"\n",
        "embeddings_path = \"/content/drive/MyDrive/TextClassificationAttention/embeddings.pkl\"\n",
        "glove_vector_path = \"/content/drive/MyDrive/TextClassificationAttention/glove.6B.50d.txt\"\n",
        "text_col_name = \"Consumer Complaint\"\n",
        "label_encoder_path = \"/content/drive/MyDrive/TextClassificationAttention/label_encoder.pkl\"\n",
        "product_map = {'Vehicle loan or lease': 'vehicle_loan',\n",
        "               'Credit reporting, credit repair services, or other personal consumer reports': 'credit_report',\n",
        "               'Credit card or prepaid card': 'card',\n",
        "               'Money transfer, virtual currency, or money service': 'money_transfer',\n",
        "               'virtual currency': 'money_transfer',\n",
        "               'Mortgage': 'mortgage',\n",
        "               'Payday loan, title loan, or personal loan': 'loan',\n",
        "               'Debt collection': 'debt_collection',\n",
        "               'Checking or savings account': 'savings_account',\n",
        "               'Credit card': 'card',\n",
        "               'Bank account or service': 'savings_account',\n",
        "               'Credit reporting': 'credit_report',\n",
        "               'Prepaid card': 'card',\n",
        "               'Payday loan': 'loan',\n",
        "               'Other financial service': 'others',\n",
        "               'Virtual currency': 'money_transfer',\n",
        "               'Student loan': 'loan',\n",
        "               'Consumer Loan': 'loan',\n",
        "               'Money transfers': 'money_transfer'}"
      ]
    },
    {
      "cell_type": "code",
      "execution_count": null,
      "metadata": {
        "id": "CM1YA97hiscE"
      },
      "outputs": [],
      "source": [
        "def save_file(name, obj):\n",
        "    \"\"\"\n",
        "    Function to save an object as pickle file\n",
        "    \"\"\"\n",
        "    with open(name, 'wb') as f:\n",
        "        pickle.dump(obj, f)\n",
        "\n",
        "\n",
        "def load_file(name):\n",
        "    \"\"\"\n",
        "    Function to load a pickle object\n",
        "    \"\"\"\n",
        "    return pickle.load(open(name, \"rb\"))"
      ]
    },
    {
      "cell_type": "markdown",
      "metadata": {
        "id": "B1RQt1dykFV3"
      },
      "source": [
        "Glove embedding"
      ]
    },
    {
      "cell_type": "code",
      "execution_count": null,
      "metadata": {
        "id": "JWwmv6z8kDFU"
      },
      "outputs": [],
      "source": [
        "with open(glove_vector_path, \"rt\") as f:\n",
        "    emb = f.readlines()"
      ]
    },
    {
      "cell_type": "code",
      "execution_count": null,
      "metadata": {
        "id": "hR6H4hVRkhOg"
      },
      "outputs": [],
      "source": [
        "vocabulary, embeddings = [], []\n",
        "\n",
        "for item in emb:\n",
        "    vocabulary.append(item.split()[0])\n",
        "    embeddings.append(item.split()[1:])"
      ]
    },
    {
      "cell_type": "code",
      "execution_count": null,
      "metadata": {
        "id": "ejmRw48nkj88"
      },
      "outputs": [],
      "source": [
        "embeddings = np.array(embeddings, dtype=np.float32)"
      ]
    },
    {
      "cell_type": "code",
      "execution_count": null,
      "metadata": {
        "id": "ZencTawkkmnn"
      },
      "outputs": [],
      "source": [
        "vocabulary = [\"<pad>\", \"<unk>\"] + vocabulary"
      ]
    },
    {
      "cell_type": "code",
      "execution_count": null,
      "metadata": {
        "id": "-n0bwX8VkpjB"
      },
      "outputs": [],
      "source": [
        "embeddings = np.vstack([np.ones(50, dtype=np.float32),\n",
        "                        np.mean(embeddings, axis=0),\n",
        "                        embeddings])"
      ]
    },
    {
      "cell_type": "code",
      "execution_count": null,
      "metadata": {
        "id": "fppxCf_3kvVd"
      },
      "outputs": [],
      "source": [
        "save_file(embeddings_path, embeddings)\n",
        "save_file(vocabulary_path, vocabulary)"
      ]
    },
    {
      "cell_type": "markdown",
      "metadata": {
        "id": "DleSFNb57lKD"
      },
      "source": [
        "# Process text"
      ]
    },
    {
      "cell_type": "code",
      "execution_count": null,
      "metadata": {
        "id": "xOYVm7W27o-q"
      },
      "outputs": [],
      "source": [
        "data = pd.read_csv(data_path)"
      ]
    },
    {
      "cell_type": "code",
      "execution_count": null,
      "metadata": {
        "id": "-Kqxs2NO7rYh"
      },
      "outputs": [],
      "source": [
        "data.dropna(subset=[text_col_name], inplace=True)"
      ]
    },
    {
      "cell_type": "code",
      "execution_count": null,
      "metadata": {
        "id": "ar0rwndX7skJ"
      },
      "outputs": [],
      "source": [
        "data.replace({label_col: product_map}, inplace=True)"
      ]
    },
    {
      "cell_type": "markdown",
      "metadata": {
        "id": "QTz5jq6Q5lfE"
      },
      "source": [
        "# Encode labels"
      ]
    },
    {
      "cell_type": "code",
      "execution_count": null,
      "metadata": {
        "id": "TEuvCx6C5pyE"
      },
      "outputs": [],
      "source": [
        "label_encoder = LabelEncoder()\n",
        "label_encoder.fit(data[label_col])\n",
        "labels = label_encoder.transform(data[label_col])"
      ]
    },
    {
      "cell_type": "code",
      "execution_count": null,
      "metadata": {
        "id": "8n9PxzZf5raD"
      },
      "outputs": [],
      "source": [
        "save_file(labels_path, labels)\n",
        "save_file(label_encoder_path, label_encoder)"
      ]
    },
    {
      "cell_type": "markdown",
      "metadata": {
        "id": "emAUjvb36Mh8"
      },
      "source": [
        "# Process text column\n"
      ]
    },
    {
      "cell_type": "code",
      "execution_count": null,
      "metadata": {
        "id": "aR_K-qOp6Rxl"
      },
      "outputs": [],
      "source": [
        "input_text = list(data[text_col_name])"
      ]
    },
    {
      "cell_type": "code",
      "execution_count": null,
      "metadata": {
        "colab": {
          "base_uri": "https://localhost:8080/"
        },
        "id": "E7aSso_v6qE8",
        "outputId": "cba0b59d-c5e9-41bd-bd87-c8ebaa9dfb63"
      },
      "outputs": [
        {
          "output_type": "execute_result",
          "data": {
            "text/plain": [
              "277814"
            ]
          },
          "metadata": {},
          "execution_count": 20
        }
      ],
      "source": [
        "len(input_text)"
      ]
    },
    {
      "cell_type": "markdown",
      "metadata": {
        "id": "bPuy4-Ax6vs6"
      },
      "source": [
        "# Convert to lowecase"
      ]
    },
    {
      "cell_type": "code",
      "execution_count": null,
      "metadata": {
        "colab": {
          "base_uri": "https://localhost:8080/"
        },
        "id": "hl3gjx_c6zr6",
        "outputId": "b6e9f011-cd45-4055-8952-1a65ad7da572"
      },
      "outputs": [
        {
          "output_type": "stream",
          "name": "stderr",
          "text": [
            "100%|██████████| 277814/277814 [00:00<00:00, 737053.34it/s]\n"
          ]
        }
      ],
      "source": [
        "input_text = [i.lower() for i in tqdm(input_text)]"
      ]
    },
    {
      "cell_type": "markdown",
      "metadata": {
        "id": "rosMMWOA63eE"
      },
      "source": [
        "# Remove punctuations except apostrophe"
      ]
    },
    {
      "cell_type": "code",
      "execution_count": null,
      "metadata": {
        "colab": {
          "base_uri": "https://localhost:8080/"
        },
        "id": "AKKRDzmh7DET",
        "outputId": "309e2797-f6ed-47d5-81a5-b2b944233d9b"
      },
      "outputs": [
        {
          "output_type": "stream",
          "name": "stderr",
          "text": [
            "100%|██████████| 277814/277814 [00:13<00:00, 21047.88it/s]\n"
          ]
        }
      ],
      "source": [
        "input_text = [re.sub(r\"[^\\w\\d'\\s]+\", \" \", i)\n",
        "              for i in tqdm(input_text)]"
      ]
    },
    {
      "cell_type": "markdown",
      "metadata": {
        "id": "poZ7ioFL7Hu3"
      },
      "source": [
        "# remove Numbers\n"
      ]
    },
    {
      "cell_type": "code",
      "execution_count": null,
      "metadata": {
        "colab": {
          "base_uri": "https://localhost:8080/"
        },
        "id": "1SRzcNQT7HNL",
        "outputId": "6aefd038-3ae4-43ee-efed-1726d891b91e"
      },
      "outputs": [
        {
          "output_type": "stream",
          "name": "stderr",
          "text": [
            "100%|██████████| 277814/277814 [00:08<00:00, 31598.33it/s]\n"
          ]
        }
      ],
      "source": [
        "input_text = [re.sub(\"\\d+\", \"\", i) for i in tqdm(input_text)]"
      ]
    },
    {
      "cell_type": "markdown",
      "metadata": {
        "id": "QU4nPMHf7rl6"
      },
      "source": [
        "# Remove more than one consecutive instance of 'x'"
      ]
    },
    {
      "cell_type": "code",
      "execution_count": null,
      "metadata": {
        "colab": {
          "base_uri": "https://localhost:8080/"
        },
        "id": "yEY8PBRj7u0S",
        "outputId": "e6644069-7c28-4721-f87a-a2e63f2aea32"
      },
      "outputs": [
        {
          "output_type": "stream",
          "name": "stderr",
          "text": [
            "100%|██████████| 277814/277814 [00:05<00:00, 47203.01it/s]\n"
          ]
        }
      ],
      "source": [
        "input_text = [re.sub(r'[x]{2,}', \"\", i) for i in tqdm(input_text)]"
      ]
    },
    {
      "cell_type": "markdown",
      "metadata": {
        "id": "BP16KhR27wcr"
      },
      "source": [
        "# Remove multiple spaces with single space"
      ]
    },
    {
      "cell_type": "code",
      "execution_count": null,
      "metadata": {
        "colab": {
          "base_uri": "https://localhost:8080/"
        },
        "id": "45HVRclx7y5L",
        "outputId": "9ece137f-06d7-4a3c-d947-d4cfceab2b2d"
      },
      "outputs": [
        {
          "output_type": "stream",
          "name": "stderr",
          "text": [
            "100%|██████████| 277814/277814 [00:22<00:00, 12217.23it/s]\n"
          ]
        }
      ],
      "source": [
        "nput_text = [re.sub(' +', ' ', i) for i in tqdm(input_text)]"
      ]
    },
    {
      "cell_type": "markdown",
      "metadata": {
        "id": "8MIRMH4k70s7"
      },
      "source": [
        "# Tokenize the text"
      ]
    },
    {
      "cell_type": "code",
      "execution_count": null,
      "metadata": {
        "colab": {
          "base_uri": "https://localhost:8080/"
        },
        "id": "kDVCdPjrIpq9",
        "outputId": "9928775a-f526-418b-a19f-4d5f76802dcb"
      },
      "outputs": [
        {
          "output_type": "stream",
          "name": "stderr",
          "text": [
            "[nltk_data] Downloading package punkt_tab to /root/nltk_data...\n",
            "[nltk_data]   Unzipping tokenizers/punkt_tab.zip.\n"
          ]
        },
        {
          "output_type": "execute_result",
          "data": {
            "text/plain": [
              "True"
            ]
          },
          "metadata": {},
          "execution_count": 24
        }
      ],
      "source": [
        "import nltk\n",
        "nltk.download('punkt_tab')\n",
        "\n",
        "tokens = [word_tokenize(t) for t in tqdm(input_text, mininterval=60)]"
      ]
    },
    {
      "cell_type": "markdown",
      "metadata": {
        "id": "PTiWqkj277Si"
      },
      "source": [
        "# Take the first 20 tokens in each complaint text"
      ]
    },
    {
      "cell_type": "code",
      "execution_count": null,
      "metadata": {
        "id": "9mNMkQFG7_Gi",
        "colab": {
          "base_uri": "https://localhost:8080/"
        },
        "outputId": "ba11c094-8696-47fe-acf1-64c8b8eb2f5c"
      },
      "outputs": [
        {
          "output_type": "stream",
          "name": "stderr",
          "text": [
            "100%|██████████| 277814/277814 [00:03<00:00, 73475.70it/s] \n"
          ]
        }
      ],
      "source": [
        "tokens = [i[:20] if len(i) > 19 else ['<pad>'] * (20 - len(i)) + i\n",
        "          for i in tqdm(tokens)]\n"
      ]
    },
    {
      "cell_type": "markdown",
      "metadata": {
        "id": "mAU4GSVI8Byz"
      },
      "source": [
        "# Convert tokens to integer indices from vocabulary"
      ]
    },
    {
      "cell_type": "code",
      "execution_count": null,
      "metadata": {
        "id": "2APNC9Me8EKS"
      },
      "outputs": [],
      "source": [
        "def token_index(tokens, vocabulary, missing='<unk>'):\n",
        "    \"\"\"\n",
        "    :param tokens: List of word tokens\n",
        "    :param vocabulary: All words in the embeddings\n",
        "    :param missing: Token for words not present in the vocabulary\n",
        "    :return: List of integers representing the word tokens\n",
        "    \"\"\"\n",
        "    idx_token = []\n",
        "    for text in tqdm(tokens):\n",
        "        idx_text = []\n",
        "        for token in text:\n",
        "            if token in vocabulary:\n",
        "                idx_text.append(vocabulary.index(token))\n",
        "            else:\n",
        "                idx_text.append(vocabulary.index(missing))\n",
        "        idx_token.append(idx_text)\n",
        "    return idx_token\n"
      ]
    },
    {
      "cell_type": "markdown",
      "metadata": {
        "id": "1PovRhgP_mXc"
      },
      "source": [
        "# save the tokens"
      ]
    },
    {
      "cell_type": "code",
      "execution_count": null,
      "metadata": {
        "id": "7sm4vLMf8Hab",
        "colab": {
          "base_uri": "https://localhost:8080/"
        },
        "outputId": "f19ae49c-6c3b-4abe-e116-920654de704c"
      },
      "outputs": [
        {
          "output_type": "stream",
          "name": "stderr",
          "text": [
            "100%|██████████| 277814/277814 [1:01:17<00:00, 75.54it/s]\n"
          ]
        }
      ],
      "source": [
        "tokens = token_index(tokens, vocabulary)\n",
        "save_file(tokens_path, tokens)"
      ]
    },
    {
      "cell_type": "markdown",
      "source": [
        "#Create attention"
      ],
      "metadata": {
        "id": "4q5aZ36xepoz"
      }
    },
    {
      "cell_type": "code",
      "source": [
        "dropout_prob = 0.5"
      ],
      "metadata": {
        "id": "a-ZT9Ho1Unat"
      },
      "execution_count": null,
      "outputs": []
    },
    {
      "cell_type": "code",
      "source": [
        "class AttentionModel(nn.Module):\n",
        "    def __init__(self, vec_len, seq_len, n_classes):\n",
        "        super(AttentionModel, self).__init__()\n",
        "        self.vec_len = vec_len\n",
        "        self.seq_len = seq_len\n",
        "        self.attn_weights = torch.cat([torch.tensor([[0.]]),\n",
        "                                       torch.randn(vec_len, 1) /\n",
        "                                       torch.sqrt(torch.tensor(vec_len))])\n",
        "        self.attn_weights.requires_grad = True\n",
        "        self.attn_weights = nn.Parameter(self.attn_weights)\n",
        "        self.activation = nn.Tanh()\n",
        "        self.softmax = nn.Softmax(dim=1)\n",
        "        self.linear = nn.Linear(vec_len + 1, n_classes)\n",
        "        self.dropout = nn.Dropout(dropout_prob)\n",
        "\n",
        "    def forward(self, input_data):\n",
        "        hidden = torch.matmul(input_data, self.attn_weights)\n",
        "        hidden = self.activation(hidden)\n",
        "        hidden = self.dropout(hidden)\n",
        "        attn = self.softmax(hidden)\n",
        "        attn = attn.repeat(1, 1, self.vec_len + 1).reshape(attn.shape[0],\n",
        "                                                           self.seq_len,\n",
        "                                                           self.vec_len + 1)\n",
        "        attn_output = input_data * attn\n",
        "        attn_output = torch.sum(attn_output, axis=1)\n",
        "        output = self.linear(attn_output)\n",
        "        return output"
      ],
      "metadata": {
        "id": "YqcuU6MFerxy"
      },
      "execution_count": null,
      "outputs": []
    },
    {
      "cell_type": "code",
      "source": [
        "class MultiHeadAttention(nn.Module):\n",
        "    def __init__(self, vec_len, seq_len, n_classes, num_heads=8):\n",
        "        super(MultiHeadAttention, self).__init__()\n",
        "        self.vec_len = vec_len\n",
        "        self.seq_len = seq_len\n",
        "        self.num_heads = num_heads\n",
        "        self.head_dim = vec_len // num_heads  # Dimension of each head\n",
        "\n",
        "        # Linear layers for query, key, and value\n",
        "        self.query_linear = nn.Linear(vec_len + 1, vec_len)\n",
        "        self.key_linear = nn.Linear(vec_len + 1, vec_len)\n",
        "        self.value_linear = nn.Linear(vec_len + 1, vec_len)\n",
        "\n",
        "        self.activation = nn.Tanh()\n",
        "        self.softmax = nn.Softmax(dim=-1)  # Softmax applied along the last dimension\n",
        "        self.linear = nn.Linear(vec_len, n_classes)\n",
        "\n",
        "    def forward(self, input_data):\n",
        "        batch_size = input_data.size(0)\n",
        "\n",
        "        # Project input to query, key, and value\n",
        "        query = self.query_linear(input_data)\n",
        "        key = self.key_linear(input_data)\n",
        "        value = self.value_linear(input_data)\n",
        "\n",
        "        # Reshape for multi-head attention\n",
        "        query = query.view(batch_size, self.seq_len, self.num_heads, self.head_dim)\n",
        "        key = key.view(batch_size, self.seq_len, self.num_heads, self.head_dim)\n",
        "        value = value.view(batch_size, self.seq_len, self.num_heads, self.head_dim)\n",
        "\n",
        "        # Calculate attention scores\n",
        "        scores = torch.matmul(query, key.transpose(-2, -1)) / torch.sqrt(torch.tensor(self.head_dim, dtype=torch.float32))\n",
        "        attn_weights = self.softmax(scores)\n",
        "\n",
        "        # Apply attention weights to value\n",
        "        attn_output = torch.matmul(attn_weights, value)\n",
        "\n",
        "        # Concatenate heads and project to output\n",
        "        attn_output = attn_output.view(batch_size, self.seq_len, self.vec_len)\n",
        "        attn_output = torch.sum(attn_output, axis=1)\n",
        "        output = self.linear(attn_output)\n",
        "\n",
        "        return output"
      ],
      "metadata": {
        "id": "_rm6WOOmZxf2"
      },
      "execution_count": null,
      "outputs": []
    },
    {
      "cell_type": "markdown",
      "source": [
        "#Create PyTorch dataset"
      ],
      "metadata": {
        "id": "PU_VBRw3ewMC"
      }
    },
    {
      "cell_type": "code",
      "source": [
        "class TextDataset(torch.utils.data.Dataset):\n",
        "\n",
        "    def __init__(self, tokens, embeddings, labels):\n",
        "        \"\"\"\n",
        "        :param tokens: List of word tokens\n",
        "        :param embeddings: Word embeddings (from glove)\n",
        "        :param labels: List of labels\n",
        "        \"\"\"\n",
        "        self.tokens = tokens\n",
        "        self.embeddings = embeddings\n",
        "        self.labels = labels\n",
        "\n",
        "    def __len__(self):\n",
        "        return len(self.tokens)\n",
        "\n",
        "    def __getitem__(self, idx):\n",
        "        emb = torch.tensor(self.embeddings[self.tokens[idx], :])\n",
        "        input_ = torch.cat((torch.ones(emb.shape[0],1), emb), dim=1)\n",
        "        return torch.tensor(self.labels[idx]), input_"
      ],
      "metadata": {
        "id": "7NSodmsHeyOy"
      },
      "execution_count": null,
      "outputs": []
    },
    {
      "cell_type": "markdown",
      "source": [
        "#Function to train the model"
      ],
      "metadata": {
        "id": "xgL2bg2fe0BL"
      }
    },
    {
      "cell_type": "code",
      "source": [
        "def train(train_loader, valid_loader, model, criterion, optimizer,\n",
        "          device, num_epochs, model_path):\n",
        "    \"\"\"\n",
        "    Function to train the model\n",
        "    :param train_loader: Data loader for train dataset\n",
        "    :param valid_loader: Data loader for validation dataset\n",
        "    :param model: Model object\n",
        "    :param criterion: Loss function\n",
        "    :param optimizer: Optimizer\n",
        "    :param device: CUDA or CPU\n",
        "    :param num_epochs: Number of epochs\n",
        "    :param model_path: Path to save the model\n",
        "    \"\"\"\n",
        "    best_loss = 1e8\n",
        "    for i in range(num_epochs):\n",
        "        print(f\"Epoch {i+1} of {num_epochs}\")\n",
        "        valid_loss, train_loss = [], []\n",
        "        model.train()\n",
        "        # Train loop\n",
        "        for batch_labels, batch_data in tqdm(train_loader):\n",
        "            # Move data to GPU if available\n",
        "            batch_labels = batch_labels.to(device)\n",
        "            batch_data = batch_data.to(device)\n",
        "            # Forward pass\n",
        "            batch_output = model(batch_data)\n",
        "            batch_output = torch.squeeze(batch_output)\n",
        "            # Calculate loss\n",
        "            loss = criterion(batch_output, batch_labels)\n",
        "            train_loss.append(loss.item())\n",
        "            optimizer.zero_grad()\n",
        "            # Backward pass\n",
        "            loss.backward()\n",
        "            # Gradient update step\n",
        "            optimizer.step()\n",
        "        model.eval()\n",
        "        # Validation loop\n",
        "        for batch_labels, batch_data in tqdm(valid_loader):\n",
        "            # Move data to GPU if available\n",
        "            batch_labels = batch_labels.to(device)\n",
        "            batch_data = batch_data.to(device)\n",
        "            # Forward pass\n",
        "            batch_output = model(batch_data)\n",
        "            batch_output = torch.squeeze(batch_output)\n",
        "            # Calculate loss\n",
        "            loss = criterion(batch_output, batch_labels)\n",
        "            valid_loss.append(loss.item())\n",
        "        t_loss = np.mean(train_loss)\n",
        "        v_loss = np.mean(valid_loss)\n",
        "        print(f\"Train Loss: {t_loss}, Validation Loss: {v_loss}\")\n",
        "        if v_loss < best_loss:\n",
        "            best_loss = v_loss\n",
        "            # Save model if validation loss improves\n",
        "            torch.save(model.state_dict(), model_path)\n",
        "        print(f\"Best Validation Loss: {best_loss}\")"
      ],
      "metadata": {
        "id": "rAWwAXXje4Gh"
      },
      "execution_count": null,
      "outputs": []
    },
    {
      "cell_type": "code",
      "source": [
        "def train_multihead(train_loader, valid_loader, model, criterion, optimizer,\n",
        "                  device, num_epochs, model_path):\n",
        "    \"\"\"\n",
        "    Function to train the Multi-Head Attention model.\n",
        "\n",
        "    Args:\n",
        "        train_loader: Data loader for train dataset.\n",
        "        valid_loader: Data loader for validation dataset.\n",
        "        model: Multi-Head Attention model object.\n",
        "        criterion: Loss function.\n",
        "        optimizer: Optimizer.\n",
        "        device: CUDA or CPU.\n",
        "        num_epochs: Number of epochs.\n",
        "        model_path: Path to save the model.\n",
        "    \"\"\"\n",
        "    best_loss = 1e8\n",
        "    for i in range(num_epochs):\n",
        "        print(f\"Epoch {i+1} of {num_epochs}\")\n",
        "        valid_loss, train_loss = [], []\n",
        "        model.train()\n",
        "        # Train loop\n",
        "        for batch_labels, batch_data in tqdm(train_loader):\n",
        "            # Move data to GPU if available\n",
        "            batch_labels = batch_labels.to(device)\n",
        "            batch_data = batch_data.to(device)\n",
        "            # Forward pass\n",
        "            batch_output = model(batch_data)\n",
        "            batch_output = torch.squeeze(batch_output)\n",
        "            # Calculate loss\n",
        "            loss = criterion(batch_output, batch_labels)\n",
        "            train_loss.append(loss.item())\n",
        "            optimizer.zero_grad()\n",
        "            # Backward pass\n",
        "            loss.backward()\n",
        "            # Gradient update step\n",
        "            optimizer.step()\n",
        "        model.eval()\n",
        "        # Validation loop\n",
        "        for batch_labels, batch_data in tqdm(valid_loader):\n",
        "            # Move data to GPU if available\n",
        "            batch_labels = batch_labels.to(device)\n",
        "            batch_data = batch_data.to(device)\n",
        "            # Forward pass\n",
        "            batch_output = model(batch_data)\n",
        "            batch_output = torch.squeeze(batch_output)\n",
        "            # Calculate loss\n",
        "            loss = criterion(batch_output, batch_labels)\n",
        "            valid_loss.append(loss.item())\n",
        "        t_loss = np.mean(train_loss)\n",
        "        v_loss = np.mean(valid_loss)\n",
        "        print(f\"Train Loss: {t_loss}, Validation Loss: {v_loss}\")\n",
        "        if v_loss < best_loss:\n",
        "            best_loss = v_loss\n",
        "            # Save model if validation loss improves\n",
        "            torch.save(model.state_dict(), model_path)\n",
        "        print(f\"Best Validation Loss: {best_loss}\")"
      ],
      "metadata": {
        "id": "USt5lHiJPYQk"
      },
      "execution_count": null,
      "outputs": []
    },
    {
      "cell_type": "markdown",
      "source": [
        "#Function to test the model"
      ],
      "metadata": {
        "id": "FVzHqE0oe-G0"
      }
    },
    {
      "cell_type": "code",
      "source": [
        "def test(test_loader, model, criterion, device):\n",
        "    \"\"\"\n",
        "    Function to test the model\n",
        "    :param test_loader: Data loader for test dataset\n",
        "    :param model: Model object\n",
        "    :param criterion: Loss function\n",
        "    :param device: CUDA or CPU\n",
        "    \"\"\"\n",
        "    model.eval()\n",
        "    test_loss = []\n",
        "    test_accu = []\n",
        "    for batch_labels, batch_data in tqdm(test_loader):\n",
        "        # Move data to device\n",
        "        batch_labels = batch_labels.to(device)\n",
        "        batch_data = batch_data.to(device)\n",
        "        # Forward pass\n",
        "        batch_output = model(batch_data)\n",
        "        batch_output = torch.squeeze(batch_output)\n",
        "        # Calculate loss\n",
        "        loss = criterion(batch_output, batch_labels)\n",
        "        test_loss.append(loss.item())\n",
        "        batch_preds = torch.argmax(batch_output, axis=1)\n",
        "        # Move predictions to CPU\n",
        "        if torch.cuda.is_available():\n",
        "            batch_labels = batch_labels.cpu()\n",
        "            batch_preds = batch_preds.cpu()\n",
        "        # Compute accuracy\n",
        "        test_accu.append(accuracy_score(batch_labels.detach().\n",
        "                                        numpy(),\n",
        "                                        batch_preds.detach().\n",
        "                                        numpy()))\n",
        "    test_loss = np.mean(test_loss)\n",
        "    test_accu = np.mean(test_accu)\n",
        "    print(f\"Test Loss: {test_loss}, Test Accuracy: {test_accu}\")"
      ],
      "metadata": {
        "id": "MUqQQPofe_8y"
      },
      "execution_count": null,
      "outputs": []
    },
    {
      "cell_type": "code",
      "source": [
        "def test_multihead(test_loader, model, criterion, device):\n",
        "    \"\"\"\n",
        "    Function to test the Multi-Head Attention model.\n",
        "\n",
        "    Args:\n",
        "        test_loader: Data loader for test dataset.\n",
        "        model: Multi-Head Attention model object.\n",
        "        criterion: Loss function.\n",
        "        device: CUDA or CPU.\n",
        "    \"\"\"\n",
        "    model.eval()\n",
        "    test_loss = []\n",
        "    test_accu = []\n",
        "    for batch_labels, batch_data in tqdm(test_loader):\n",
        "        # Move data to device\n",
        "        batch_labels = batch_labels.to(device)\n",
        "        batch_data = batch_data.to(device)\n",
        "        # Forward pass\n",
        "        batch_output = model(batch_data)\n",
        "        batch_output = torch.squeeze(batch_output)\n",
        "        # Calculate loss\n",
        "        loss = criterion(batch_output, batch_labels)\n",
        "        test_loss.append(loss.item())\n",
        "        batch_preds = torch.argmax(batch_output, axis=1)\n",
        "        # Move predictions to CPU\n",
        "        if torch.cuda.is_available():\n",
        "            batch_labels = batch_labels.cpu()\n",
        "            batch_preds = batch_preds.cpu()\n",
        "        # Compute accuracy\n",
        "        test_accu.append(accuracy_score(batch_labels.detach().numpy(),\n",
        "                                        batch_preds.detach().numpy()))\n",
        "    test_loss = np.mean(test_loss)\n",
        "    test_accu = np.mean(test_accu)\n",
        "    print(f\"Test Loss: {test_loss}, Test Accuracy: {test_accu}\")"
      ],
      "metadata": {
        "id": "Ef5ivEx0PfdU"
      },
      "execution_count": null,
      "outputs": []
    },
    {
      "cell_type": "markdown",
      "source": [
        "#Train attention model"
      ],
      "metadata": {
        "id": "Nsg3ISWBfEoh"
      }
    },
    {
      "cell_type": "code",
      "source": [
        "tokens = load_file(tokens_path)\n",
        "labels = load_file(labels_path)\n",
        "embeddings = load_file(embeddings_path)\n",
        "label_encoder = load_file(label_encoder_path)\n",
        "num_classes = len(label_encoder.classes_)\n",
        "vocabulary = load_file(vocabulary_path)"
      ],
      "metadata": {
        "id": "S3ZKLvZQfGl5"
      },
      "execution_count": null,
      "outputs": []
    },
    {
      "cell_type": "markdown",
      "source": [
        "Split data into train, validation and test sets"
      ],
      "metadata": {
        "id": "yBx-EJhQfIri"
      }
    },
    {
      "cell_type": "code",
      "source": [
        "X_train, X_test, y_train, y_test = train_test_split(tokens, labels,\n",
        "                                                    test_size=0.2)\n",
        "X_train, X_valid, y_train, y_valid = train_test_split(X_train,\n",
        "                                                      y_train,\n",
        "                                                      test_size=0.25)"
      ],
      "metadata": {
        "id": "ueE1MMWafNDC"
      },
      "execution_count": null,
      "outputs": []
    },
    {
      "cell_type": "markdown",
      "source": [
        "Create PyTorch datasets"
      ],
      "metadata": {
        "id": "K9iGIdA-fh3x"
      }
    },
    {
      "cell_type": "code",
      "source": [
        "train_dataset = TextDataset(X_train, embeddings, y_train)\n",
        "valid_dataset = TextDataset(X_valid, embeddings, y_valid)\n",
        "test_dataset = TextDataset(X_test, embeddings, y_test)"
      ],
      "metadata": {
        "id": "LIomhLg6fjUB"
      },
      "execution_count": null,
      "outputs": []
    },
    {
      "cell_type": "markdown",
      "source": [
        "Create data loaders"
      ],
      "metadata": {
        "id": "QdYGSv4dfmG6"
      }
    },
    {
      "cell_type": "code",
      "source": [
        "train_loader = torch.utils.data.DataLoader(train_dataset,\n",
        "                                           batch_size=16,\n",
        "                                           shuffle=True,\n",
        "                                           drop_last=True)\n",
        "valid_loader = torch.utils.data.DataLoader(valid_dataset,\n",
        "                                           batch_size=16)\n",
        "test_loader = torch.utils.data.DataLoader(test_dataset,\n",
        "                                          batch_size=16)"
      ],
      "metadata": {
        "id": "J3ogJn66fmpp"
      },
      "execution_count": null,
      "outputs": []
    },
    {
      "cell_type": "markdown",
      "source": [
        "Create model object"
      ],
      "metadata": {
        "id": "1JoDYyqVfo0y"
      }
    },
    {
      "cell_type": "code",
      "source": [
        "device = torch.device(\"cuda:0\" if torch.cuda.is_available()\n",
        "                      else \"cpu\")\n",
        "model = AttentionModel(vec_len, seq_len, num_classes)\n",
        "#modelMulti = MultiHeadAttention(vec_len, seq_len, num_classes)"
      ],
      "metadata": {
        "id": "YVgcSGwefqMa"
      },
      "execution_count": null,
      "outputs": []
    },
    {
      "cell_type": "markdown",
      "source": [
        "Move the model to GPU if available\n"
      ],
      "metadata": {
        "id": "Ugqfbe4ZfzfZ"
      }
    },
    {
      "cell_type": "code",
      "source": [
        "if torch.cuda.is_available():\n",
        "    model = model.cuda()\n",
        "    #modelMulti = modelMulti.cuda()"
      ],
      "metadata": {
        "id": "o2pFBtoJf5WC"
      },
      "execution_count": null,
      "outputs": []
    },
    {
      "cell_type": "markdown",
      "source": [
        "Define loss function and optimizer"
      ],
      "metadata": {
        "id": "tYHhAkJFf7da"
      }
    },
    {
      "cell_type": "code",
      "source": [
        "criterion = torch.nn.CrossEntropyLoss()\n",
        "optimizer = torch.optim.Adam(model.parameters(), lr=lr)\n",
        "#optimizer = torch.optim.Adam(modelMulti.parameters(), lr=lr)"
      ],
      "metadata": {
        "id": "3MUue7WEf86a"
      },
      "execution_count": null,
      "outputs": []
    },
    {
      "cell_type": "markdown",
      "source": [
        "Training loop"
      ],
      "metadata": {
        "id": "plbMM0Zhf-uY"
      }
    },
    {
      "cell_type": "code",
      "source": [
        "train_multihead(train_loader, valid_loader, modelMulti, criterion, optimizer,\n",
        "                device, num_epochs, model_path_multihead)"
      ],
      "metadata": {
        "colab": {
          "base_uri": "https://localhost:8080/",
          "height": 339
        },
        "id": "TplmJJW5QHpj",
        "outputId": "c5d23bd1-7d27-49d4-d6df-5fe0aa1152ea"
      },
      "execution_count": null,
      "outputs": [
        {
          "output_type": "stream",
          "name": "stdout",
          "text": [
            "Epoch 1 of 50\n"
          ]
        },
        {
          "output_type": "stream",
          "name": "stderr",
          "text": [
            "  0%|          | 0/10418 [00:00<?, ?it/s]\n"
          ]
        },
        {
          "output_type": "error",
          "ename": "RuntimeError",
          "evalue": "shape '[16, 20, 8, 6]' is invalid for input of size 16000",
          "traceback": [
            "\u001b[0;31m---------------------------------------------------------------------------\u001b[0m",
            "\u001b[0;31mRuntimeError\u001b[0m                              Traceback (most recent call last)",
            "\u001b[0;32m<ipython-input-20-a45c1c551ddb>\u001b[0m in \u001b[0;36m<cell line: 0>\u001b[0;34m()\u001b[0m\n\u001b[0;32m----> 1\u001b[0;31m train_multihead(train_loader, valid_loader, modelMulti, criterion, optimizer,\n\u001b[0m\u001b[1;32m      2\u001b[0m                 device, num_epochs, model_path_multihead)\n",
            "\u001b[0;32m<ipython-input-7-775120573352>\u001b[0m in \u001b[0;36mtrain_multihead\u001b[0;34m(train_loader, valid_loader, model, criterion, optimizer, device, num_epochs, model_path)\u001b[0m\n\u001b[1;32m     25\u001b[0m             \u001b[0mbatch_data\u001b[0m \u001b[0;34m=\u001b[0m \u001b[0mbatch_data\u001b[0m\u001b[0;34m.\u001b[0m\u001b[0mto\u001b[0m\u001b[0;34m(\u001b[0m\u001b[0mdevice\u001b[0m\u001b[0;34m)\u001b[0m\u001b[0;34m\u001b[0m\u001b[0;34m\u001b[0m\u001b[0m\n\u001b[1;32m     26\u001b[0m             \u001b[0;31m# Forward pass\u001b[0m\u001b[0;34m\u001b[0m\u001b[0;34m\u001b[0m\u001b[0m\n\u001b[0;32m---> 27\u001b[0;31m             \u001b[0mbatch_output\u001b[0m \u001b[0;34m=\u001b[0m \u001b[0mmodel\u001b[0m\u001b[0;34m(\u001b[0m\u001b[0mbatch_data\u001b[0m\u001b[0;34m)\u001b[0m\u001b[0;34m\u001b[0m\u001b[0;34m\u001b[0m\u001b[0m\n\u001b[0m\u001b[1;32m     28\u001b[0m             \u001b[0mbatch_output\u001b[0m \u001b[0;34m=\u001b[0m \u001b[0mtorch\u001b[0m\u001b[0;34m.\u001b[0m\u001b[0msqueeze\u001b[0m\u001b[0;34m(\u001b[0m\u001b[0mbatch_output\u001b[0m\u001b[0;34m)\u001b[0m\u001b[0;34m\u001b[0m\u001b[0;34m\u001b[0m\u001b[0m\n\u001b[1;32m     29\u001b[0m             \u001b[0;31m# Calculate loss\u001b[0m\u001b[0;34m\u001b[0m\u001b[0;34m\u001b[0m\u001b[0m\n",
            "\u001b[0;32m/usr/local/lib/python3.11/dist-packages/torch/nn/modules/module.py\u001b[0m in \u001b[0;36m_wrapped_call_impl\u001b[0;34m(self, *args, **kwargs)\u001b[0m\n\u001b[1;32m   1734\u001b[0m             \u001b[0;32mreturn\u001b[0m \u001b[0mself\u001b[0m\u001b[0;34m.\u001b[0m\u001b[0m_compiled_call_impl\u001b[0m\u001b[0;34m(\u001b[0m\u001b[0;34m*\u001b[0m\u001b[0margs\u001b[0m\u001b[0;34m,\u001b[0m \u001b[0;34m**\u001b[0m\u001b[0mkwargs\u001b[0m\u001b[0;34m)\u001b[0m  \u001b[0;31m# type: ignore[misc]\u001b[0m\u001b[0;34m\u001b[0m\u001b[0;34m\u001b[0m\u001b[0m\n\u001b[1;32m   1735\u001b[0m         \u001b[0;32melse\u001b[0m\u001b[0;34m:\u001b[0m\u001b[0;34m\u001b[0m\u001b[0;34m\u001b[0m\u001b[0m\n\u001b[0;32m-> 1736\u001b[0;31m             \u001b[0;32mreturn\u001b[0m \u001b[0mself\u001b[0m\u001b[0;34m.\u001b[0m\u001b[0m_call_impl\u001b[0m\u001b[0;34m(\u001b[0m\u001b[0;34m*\u001b[0m\u001b[0margs\u001b[0m\u001b[0;34m,\u001b[0m \u001b[0;34m**\u001b[0m\u001b[0mkwargs\u001b[0m\u001b[0;34m)\u001b[0m\u001b[0;34m\u001b[0m\u001b[0;34m\u001b[0m\u001b[0m\n\u001b[0m\u001b[1;32m   1737\u001b[0m \u001b[0;34m\u001b[0m\u001b[0m\n\u001b[1;32m   1738\u001b[0m     \u001b[0;31m# torchrec tests the code consistency with the following code\u001b[0m\u001b[0;34m\u001b[0m\u001b[0;34m\u001b[0m\u001b[0m\n",
            "\u001b[0;32m/usr/local/lib/python3.11/dist-packages/torch/nn/modules/module.py\u001b[0m in \u001b[0;36m_call_impl\u001b[0;34m(self, *args, **kwargs)\u001b[0m\n\u001b[1;32m   1745\u001b[0m                 \u001b[0;32mor\u001b[0m \u001b[0m_global_backward_pre_hooks\u001b[0m \u001b[0;32mor\u001b[0m \u001b[0m_global_backward_hooks\u001b[0m\u001b[0;34m\u001b[0m\u001b[0;34m\u001b[0m\u001b[0m\n\u001b[1;32m   1746\u001b[0m                 or _global_forward_hooks or _global_forward_pre_hooks):\n\u001b[0;32m-> 1747\u001b[0;31m             \u001b[0;32mreturn\u001b[0m \u001b[0mforward_call\u001b[0m\u001b[0;34m(\u001b[0m\u001b[0;34m*\u001b[0m\u001b[0margs\u001b[0m\u001b[0;34m,\u001b[0m \u001b[0;34m**\u001b[0m\u001b[0mkwargs\u001b[0m\u001b[0;34m)\u001b[0m\u001b[0;34m\u001b[0m\u001b[0;34m\u001b[0m\u001b[0m\n\u001b[0m\u001b[1;32m   1748\u001b[0m \u001b[0;34m\u001b[0m\u001b[0m\n\u001b[1;32m   1749\u001b[0m         \u001b[0mresult\u001b[0m \u001b[0;34m=\u001b[0m \u001b[0;32mNone\u001b[0m\u001b[0;34m\u001b[0m\u001b[0;34m\u001b[0m\u001b[0m\n",
            "\u001b[0;32m<ipython-input-4-1f56aeb947e8>\u001b[0m in \u001b[0;36mforward\u001b[0;34m(self, input_data)\u001b[0m\n\u001b[1;32m     25\u001b[0m \u001b[0;34m\u001b[0m\u001b[0m\n\u001b[1;32m     26\u001b[0m         \u001b[0;31m# Reshape for multi-head attention\u001b[0m\u001b[0;34m\u001b[0m\u001b[0;34m\u001b[0m\u001b[0m\n\u001b[0;32m---> 27\u001b[0;31m         \u001b[0mquery\u001b[0m \u001b[0;34m=\u001b[0m \u001b[0mquery\u001b[0m\u001b[0;34m.\u001b[0m\u001b[0mview\u001b[0m\u001b[0;34m(\u001b[0m\u001b[0mbatch_size\u001b[0m\u001b[0;34m,\u001b[0m \u001b[0mself\u001b[0m\u001b[0;34m.\u001b[0m\u001b[0mseq_len\u001b[0m\u001b[0;34m,\u001b[0m \u001b[0mself\u001b[0m\u001b[0;34m.\u001b[0m\u001b[0mnum_heads\u001b[0m\u001b[0;34m,\u001b[0m \u001b[0mself\u001b[0m\u001b[0;34m.\u001b[0m\u001b[0mhead_dim\u001b[0m\u001b[0;34m)\u001b[0m\u001b[0;34m\u001b[0m\u001b[0;34m\u001b[0m\u001b[0m\n\u001b[0m\u001b[1;32m     28\u001b[0m         \u001b[0mkey\u001b[0m \u001b[0;34m=\u001b[0m \u001b[0mkey\u001b[0m\u001b[0;34m.\u001b[0m\u001b[0mview\u001b[0m\u001b[0;34m(\u001b[0m\u001b[0mbatch_size\u001b[0m\u001b[0;34m,\u001b[0m \u001b[0mself\u001b[0m\u001b[0;34m.\u001b[0m\u001b[0mseq_len\u001b[0m\u001b[0;34m,\u001b[0m \u001b[0mself\u001b[0m\u001b[0;34m.\u001b[0m\u001b[0mnum_heads\u001b[0m\u001b[0;34m,\u001b[0m \u001b[0mself\u001b[0m\u001b[0;34m.\u001b[0m\u001b[0mhead_dim\u001b[0m\u001b[0;34m)\u001b[0m\u001b[0;34m\u001b[0m\u001b[0;34m\u001b[0m\u001b[0m\n\u001b[1;32m     29\u001b[0m         \u001b[0mvalue\u001b[0m \u001b[0;34m=\u001b[0m \u001b[0mvalue\u001b[0m\u001b[0;34m.\u001b[0m\u001b[0mview\u001b[0m\u001b[0;34m(\u001b[0m\u001b[0mbatch_size\u001b[0m\u001b[0;34m,\u001b[0m \u001b[0mself\u001b[0m\u001b[0;34m.\u001b[0m\u001b[0mseq_len\u001b[0m\u001b[0;34m,\u001b[0m \u001b[0mself\u001b[0m\u001b[0;34m.\u001b[0m\u001b[0mnum_heads\u001b[0m\u001b[0;34m,\u001b[0m \u001b[0mself\u001b[0m\u001b[0;34m.\u001b[0m\u001b[0mhead_dim\u001b[0m\u001b[0;34m)\u001b[0m\u001b[0;34m\u001b[0m\u001b[0;34m\u001b[0m\u001b[0m\n",
            "\u001b[0;31mRuntimeError\u001b[0m: shape '[16, 20, 8, 6]' is invalid for input of size 16000"
          ]
        }
      ]
    },
    {
      "cell_type": "code",
      "source": [
        "train(train_loader, valid_loader, model, criterion, optimizer,\n",
        "      device, num_epochs, model_path)"
      ],
      "metadata": {
        "colab": {
          "base_uri": "https://localhost:8080/"
        },
        "id": "OQDmHWXEgAbI",
        "outputId": "dce39278-981a-419d-c2ed-5d8462c9d31d"
      },
      "execution_count": null,
      "outputs": [
        {
          "output_type": "stream",
          "name": "stdout",
          "text": [
            "Epoch 1 of 50\n"
          ]
        },
        {
          "output_type": "stream",
          "name": "stderr",
          "text": [
            "100%|██████████| 10418/10418 [00:26<00:00, 394.79it/s]\n",
            "100%|██████████| 3473/3473 [00:04<00:00, 796.41it/s]\n"
          ]
        },
        {
          "output_type": "stream",
          "name": "stdout",
          "text": [
            "Train Loss: 1.5782883248795565, Validation Loss: 1.3664493417485866\n",
            "Best Validation Loss: 1.3664493417485866\n",
            "Epoch 2 of 50\n"
          ]
        },
        {
          "output_type": "stream",
          "name": "stderr",
          "text": [
            "100%|██████████| 10418/10418 [00:27<00:00, 385.21it/s]\n",
            "100%|██████████| 3473/3473 [00:04<00:00, 716.32it/s]\n"
          ]
        },
        {
          "output_type": "stream",
          "name": "stdout",
          "text": [
            "Train Loss: 1.3465995493068372, Validation Loss: 1.2390583044096608\n",
            "Best Validation Loss: 1.2390583044096608\n",
            "Epoch 3 of 50\n"
          ]
        },
        {
          "output_type": "stream",
          "name": "stderr",
          "text": [
            "100%|██████████| 10418/10418 [00:25<00:00, 402.04it/s]\n",
            "100%|██████████| 3473/3473 [00:06<00:00, 548.57it/s]\n"
          ]
        },
        {
          "output_type": "stream",
          "name": "stdout",
          "text": [
            "Train Loss: 1.2740934329415996, Validation Loss: 1.1789733898114514\n",
            "Best Validation Loss: 1.1789733898114514\n",
            "Epoch 4 of 50\n"
          ]
        },
        {
          "output_type": "stream",
          "name": "stderr",
          "text": [
            "100%|██████████| 10418/10418 [00:25<00:00, 402.75it/s]\n",
            "100%|██████████| 3473/3473 [00:04<00:00, 789.14it/s]\n"
          ]
        },
        {
          "output_type": "stream",
          "name": "stdout",
          "text": [
            "Train Loss: 1.2370058572219096, Validation Loss: 1.1443308244992703\n",
            "Best Validation Loss: 1.1443308244992703\n",
            "Epoch 5 of 50\n"
          ]
        },
        {
          "output_type": "stream",
          "name": "stderr",
          "text": [
            "100%|██████████| 10418/10418 [00:26<00:00, 393.58it/s]\n",
            "100%|██████████| 3473/3473 [00:04<00:00, 804.20it/s]\n"
          ]
        },
        {
          "output_type": "stream",
          "name": "stdout",
          "text": [
            "Train Loss: 1.2150090029936969, Validation Loss: 1.122633718479754\n",
            "Best Validation Loss: 1.122633718479754\n",
            "Epoch 6 of 50\n"
          ]
        },
        {
          "output_type": "stream",
          "name": "stderr",
          "text": [
            "100%|██████████| 10418/10418 [00:26<00:00, 397.60it/s]\n",
            "100%|██████████| 3473/3473 [00:05<00:00, 659.26it/s]\n"
          ]
        },
        {
          "output_type": "stream",
          "name": "stdout",
          "text": [
            "Train Loss: 1.1996314941457924, Validation Loss: 1.1064507020178838\n",
            "Best Validation Loss: 1.1064507020178838\n",
            "Epoch 7 of 50\n"
          ]
        },
        {
          "output_type": "stream",
          "name": "stderr",
          "text": [
            "100%|██████████| 10418/10418 [00:25<00:00, 406.62it/s]\n",
            "100%|██████████| 3473/3473 [00:05<00:00, 688.76it/s]\n"
          ]
        },
        {
          "output_type": "stream",
          "name": "stdout",
          "text": [
            "Train Loss: 1.1893811177317162, Validation Loss: 1.0952358779596931\n",
            "Best Validation Loss: 1.0952358779596931\n",
            "Epoch 8 of 50\n"
          ]
        },
        {
          "output_type": "stream",
          "name": "stderr",
          "text": [
            "100%|██████████| 10418/10418 [00:25<00:00, 400.94it/s]\n",
            "100%|██████████| 3473/3473 [00:04<00:00, 796.56it/s]\n"
          ]
        },
        {
          "output_type": "stream",
          "name": "stdout",
          "text": [
            "Train Loss: 1.1781575664074047, Validation Loss: 1.0869193891609845\n",
            "Best Validation Loss: 1.0869193891609845\n",
            "Epoch 9 of 50\n"
          ]
        },
        {
          "output_type": "stream",
          "name": "stderr",
          "text": [
            "100%|██████████| 10418/10418 [00:26<00:00, 398.69it/s]\n",
            "100%|██████████| 3473/3473 [00:04<00:00, 804.97it/s]\n"
          ]
        },
        {
          "output_type": "stream",
          "name": "stdout",
          "text": [
            "Train Loss: 1.1676110427080726, Validation Loss: 1.0794167643814652\n",
            "Best Validation Loss: 1.0794167643814652\n",
            "Epoch 10 of 50\n"
          ]
        },
        {
          "output_type": "stream",
          "name": "stderr",
          "text": [
            "100%|██████████| 10418/10418 [00:25<00:00, 400.79it/s]\n",
            "100%|██████████| 3473/3473 [00:05<00:00, 678.08it/s]\n"
          ]
        },
        {
          "output_type": "stream",
          "name": "stdout",
          "text": [
            "Train Loss: 1.1614769969981562, Validation Loss: 1.0731943833477862\n",
            "Best Validation Loss: 1.0731943833477862\n",
            "Epoch 11 of 50\n"
          ]
        },
        {
          "output_type": "stream",
          "name": "stderr",
          "text": [
            "100%|██████████| 10418/10418 [00:25<00:00, 401.53it/s]\n",
            "100%|██████████| 3473/3473 [00:05<00:00, 683.82it/s]\n"
          ]
        },
        {
          "output_type": "stream",
          "name": "stdout",
          "text": [
            "Train Loss: 1.156886012451986, Validation Loss: 1.0685538369642016\n",
            "Best Validation Loss: 1.0685538369642016\n",
            "Epoch 12 of 50\n"
          ]
        },
        {
          "output_type": "stream",
          "name": "stderr",
          "text": [
            "100%|██████████| 10418/10418 [00:26<00:00, 393.83it/s]\n",
            "100%|██████████| 3473/3473 [00:04<00:00, 800.98it/s]\n"
          ]
        },
        {
          "output_type": "stream",
          "name": "stdout",
          "text": [
            "Train Loss: 1.1547216452839828, Validation Loss: 1.063138967112303\n",
            "Best Validation Loss: 1.063138967112303\n",
            "Epoch 13 of 50\n"
          ]
        },
        {
          "output_type": "stream",
          "name": "stderr",
          "text": [
            "100%|██████████| 10418/10418 [00:27<00:00, 385.32it/s]\n",
            "100%|██████████| 3473/3473 [00:04<00:00, 747.09it/s]\n"
          ]
        },
        {
          "output_type": "stream",
          "name": "stdout",
          "text": [
            "Train Loss: 1.1464549577878107, Validation Loss: 1.0591279074845725\n",
            "Best Validation Loss: 1.0591279074845725\n",
            "Epoch 14 of 50\n"
          ]
        },
        {
          "output_type": "stream",
          "name": "stderr",
          "text": [
            "100%|██████████| 10418/10418 [00:26<00:00, 397.00it/s]\n",
            "100%|██████████| 3473/3473 [00:05<00:00, 649.73it/s]\n"
          ]
        },
        {
          "output_type": "stream",
          "name": "stdout",
          "text": [
            "Train Loss: 1.1468757123647575, Validation Loss: 1.0573120358231909\n",
            "Best Validation Loss: 1.0573120358231909\n",
            "Epoch 15 of 50\n"
          ]
        },
        {
          "output_type": "stream",
          "name": "stderr",
          "text": [
            "100%|██████████| 10418/10418 [00:26<00:00, 393.04it/s]\n",
            "100%|██████████| 3473/3473 [00:04<00:00, 751.92it/s]\n"
          ]
        },
        {
          "output_type": "stream",
          "name": "stdout",
          "text": [
            "Train Loss: 1.142767368720186, Validation Loss: 1.05310524226505\n",
            "Best Validation Loss: 1.05310524226505\n",
            "Epoch 16 of 50\n"
          ]
        },
        {
          "output_type": "stream",
          "name": "stderr",
          "text": [
            "100%|██████████| 10418/10418 [00:29<00:00, 357.05it/s]\n",
            "100%|██████████| 3473/3473 [00:04<00:00, 743.60it/s]\n"
          ]
        },
        {
          "output_type": "stream",
          "name": "stdout",
          "text": [
            "Train Loss: 1.1401951713367715, Validation Loss: 1.052636213761532\n",
            "Best Validation Loss: 1.052636213761532\n",
            "Epoch 17 of 50\n"
          ]
        },
        {
          "output_type": "stream",
          "name": "stderr",
          "text": [
            "100%|██████████| 10418/10418 [00:29<00:00, 358.95it/s]\n",
            "100%|██████████| 3473/3473 [00:05<00:00, 664.13it/s]\n"
          ]
        },
        {
          "output_type": "stream",
          "name": "stdout",
          "text": [
            "Train Loss: 1.1372400497744835, Validation Loss: 1.0495759302966368\n",
            "Best Validation Loss: 1.0495759302966368\n",
            "Epoch 18 of 50\n"
          ]
        },
        {
          "output_type": "stream",
          "name": "stderr",
          "text": [
            "100%|██████████| 10418/10418 [00:28<00:00, 362.97it/s]\n",
            "100%|██████████| 3473/3473 [00:04<00:00, 746.97it/s]\n"
          ]
        },
        {
          "output_type": "stream",
          "name": "stdout",
          "text": [
            "Train Loss: 1.1383945821548611, Validation Loss: 1.0477485443754222\n",
            "Best Validation Loss: 1.0477485443754222\n",
            "Epoch 19 of 50\n"
          ]
        },
        {
          "output_type": "stream",
          "name": "stderr",
          "text": [
            "100%|██████████| 10418/10418 [00:28<00:00, 368.77it/s]\n",
            "100%|██████████| 3473/3473 [00:05<00:00, 656.51it/s]\n"
          ]
        },
        {
          "output_type": "stream",
          "name": "stdout",
          "text": [
            "Train Loss: 1.1355626877317915, Validation Loss: 1.0476562892398675\n",
            "Best Validation Loss: 1.0476562892398675\n",
            "Epoch 20 of 50\n"
          ]
        },
        {
          "output_type": "stream",
          "name": "stderr",
          "text": [
            "100%|██████████| 10418/10418 [00:25<00:00, 405.90it/s]\n",
            "100%|██████████| 3473/3473 [00:04<00:00, 756.01it/s]\n"
          ]
        },
        {
          "output_type": "stream",
          "name": "stdout",
          "text": [
            "Train Loss: 1.13153820673823, Validation Loss: 1.0462071848231436\n",
            "Best Validation Loss: 1.0462071848231436\n",
            "Epoch 21 of 50\n"
          ]
        },
        {
          "output_type": "stream",
          "name": "stderr",
          "text": [
            "100%|██████████| 10418/10418 [00:25<00:00, 405.27it/s]\n",
            "100%|██████████| 3473/3473 [00:04<00:00, 807.82it/s]\n"
          ]
        },
        {
          "output_type": "stream",
          "name": "stdout",
          "text": [
            "Train Loss: 1.1313328656045598, Validation Loss: 1.0443309695000542\n",
            "Best Validation Loss: 1.0443309695000542\n",
            "Epoch 22 of 50\n"
          ]
        },
        {
          "output_type": "stream",
          "name": "stderr",
          "text": [
            "100%|██████████| 10418/10418 [00:25<00:00, 408.58it/s]\n",
            "100%|██████████| 3473/3473 [00:04<00:00, 804.49it/s]\n"
          ]
        },
        {
          "output_type": "stream",
          "name": "stdout",
          "text": [
            "Train Loss: 1.1306902584604623, Validation Loss: 1.0438683879176376\n",
            "Best Validation Loss: 1.0438683879176376\n",
            "Epoch 23 of 50\n"
          ]
        },
        {
          "output_type": "stream",
          "name": "stderr",
          "text": [
            "100%|██████████| 10418/10418 [00:25<00:00, 404.65it/s]\n",
            "100%|██████████| 3473/3473 [00:05<00:00, 679.91it/s]\n"
          ]
        },
        {
          "output_type": "stream",
          "name": "stdout",
          "text": [
            "Train Loss: 1.1287705696293937, Validation Loss: 1.043779445937069\n",
            "Best Validation Loss: 1.043779445937069\n",
            "Epoch 24 of 50\n"
          ]
        },
        {
          "output_type": "stream",
          "name": "stderr",
          "text": [
            "100%|██████████| 10418/10418 [00:25<00:00, 407.15it/s]\n",
            "100%|██████████| 3473/3473 [00:04<00:00, 703.30it/s]\n"
          ]
        },
        {
          "output_type": "stream",
          "name": "stdout",
          "text": [
            "Train Loss: 1.126905924497742, Validation Loss: 1.0422429561512017\n",
            "Best Validation Loss: 1.0422429561512017\n",
            "Epoch 25 of 50\n"
          ]
        },
        {
          "output_type": "stream",
          "name": "stderr",
          "text": [
            "100%|██████████| 10418/10418 [00:25<00:00, 407.20it/s]\n",
            "100%|██████████| 3473/3473 [00:04<00:00, 808.52it/s]\n"
          ]
        },
        {
          "output_type": "stream",
          "name": "stdout",
          "text": [
            "Train Loss: 1.1249702764171903, Validation Loss: 1.0420209182259537\n",
            "Best Validation Loss: 1.0420209182259537\n",
            "Epoch 26 of 50\n"
          ]
        },
        {
          "output_type": "stream",
          "name": "stderr",
          "text": [
            "100%|██████████| 10418/10418 [00:25<00:00, 406.87it/s]\n",
            "100%|██████████| 3473/3473 [00:04<00:00, 803.80it/s]\n"
          ]
        },
        {
          "output_type": "stream",
          "name": "stdout",
          "text": [
            "Train Loss: 1.1251253409528943, Validation Loss: 1.0418502582430738\n",
            "Best Validation Loss: 1.0418502582430738\n",
            "Epoch 27 of 50\n"
          ]
        },
        {
          "output_type": "stream",
          "name": "stderr",
          "text": [
            "100%|██████████| 10418/10418 [00:25<00:00, 407.38it/s]\n",
            "100%|██████████| 3473/3473 [00:04<00:00, 746.17it/s]\n"
          ]
        },
        {
          "output_type": "stream",
          "name": "stdout",
          "text": [
            "Train Loss: 1.1234087476313377, Validation Loss: 1.0417229850183054\n",
            "Best Validation Loss: 1.0417229850183054\n",
            "Epoch 28 of 50\n"
          ]
        },
        {
          "output_type": "stream",
          "name": "stderr",
          "text": [
            "100%|██████████| 10418/10418 [00:25<00:00, 413.01it/s]\n",
            "100%|██████████| 3473/3473 [00:05<00:00, 660.45it/s]\n"
          ]
        },
        {
          "output_type": "stream",
          "name": "stdout",
          "text": [
            "Train Loss: 1.1233099998817218, Validation Loss: 1.0411206795336567\n",
            "Best Validation Loss: 1.0411206795336567\n",
            "Epoch 29 of 50\n"
          ]
        },
        {
          "output_type": "stream",
          "name": "stderr",
          "text": [
            "100%|██████████| 10418/10418 [00:25<00:00, 407.15it/s]\n",
            "100%|██████████| 3473/3473 [00:04<00:00, 809.89it/s]\n"
          ]
        },
        {
          "output_type": "stream",
          "name": "stdout",
          "text": [
            "Train Loss: 1.1217205320107866, Validation Loss: 1.0418505189211473\n",
            "Best Validation Loss: 1.0411206795336567\n",
            "Epoch 30 of 50\n"
          ]
        },
        {
          "output_type": "stream",
          "name": "stderr",
          "text": [
            "100%|██████████| 10418/10418 [00:25<00:00, 405.75it/s]\n",
            "100%|██████████| 3473/3473 [00:04<00:00, 796.30it/s]\n"
          ]
        },
        {
          "output_type": "stream",
          "name": "stdout",
          "text": [
            "Train Loss: 1.1207193037980256, Validation Loss: 1.0405620665533757\n",
            "Best Validation Loss: 1.0405620665533757\n",
            "Epoch 31 of 50\n"
          ]
        },
        {
          "output_type": "stream",
          "name": "stderr",
          "text": [
            "100%|██████████| 10418/10418 [00:25<00:00, 404.29it/s]\n",
            "100%|██████████| 3473/3473 [00:04<00:00, 695.45it/s]\n"
          ]
        },
        {
          "output_type": "stream",
          "name": "stdout",
          "text": [
            "Train Loss: 1.120220062911316, Validation Loss: 1.042111759308673\n",
            "Best Validation Loss: 1.0405620665533757\n",
            "Epoch 32 of 50\n"
          ]
        },
        {
          "output_type": "stream",
          "name": "stderr",
          "text": [
            "100%|██████████| 10418/10418 [00:25<00:00, 412.30it/s]\n",
            "100%|██████████| 3473/3473 [00:04<00:00, 701.80it/s]\n"
          ]
        },
        {
          "output_type": "stream",
          "name": "stdout",
          "text": [
            "Train Loss: 1.1182573061686008, Validation Loss: 1.0411074916498826\n",
            "Best Validation Loss: 1.0405620665533757\n",
            "Epoch 33 of 50\n"
          ]
        },
        {
          "output_type": "stream",
          "name": "stderr",
          "text": [
            "100%|██████████| 10418/10418 [00:25<00:00, 400.90it/s]\n",
            "100%|██████████| 3473/3473 [00:04<00:00, 800.05it/s]\n"
          ]
        },
        {
          "output_type": "stream",
          "name": "stdout",
          "text": [
            "Train Loss: 1.1179049815056443, Validation Loss: 1.0410930812702102\n",
            "Best Validation Loss: 1.0405620665533757\n",
            "Epoch 34 of 50\n"
          ]
        },
        {
          "output_type": "stream",
          "name": "stderr",
          "text": [
            "100%|██████████| 10418/10418 [00:25<00:00, 406.91it/s]\n",
            "100%|██████████| 3473/3473 [00:04<00:00, 807.64it/s]\n"
          ]
        },
        {
          "output_type": "stream",
          "name": "stdout",
          "text": [
            "Train Loss: 1.1190077551102589, Validation Loss: 1.0418709293844512\n",
            "Best Validation Loss: 1.0405620665533757\n",
            "Epoch 35 of 50\n"
          ]
        },
        {
          "output_type": "stream",
          "name": "stderr",
          "text": [
            "100%|██████████| 10418/10418 [00:25<00:00, 407.35it/s]\n",
            "100%|██████████| 3473/3473 [00:05<00:00, 658.54it/s]\n"
          ]
        },
        {
          "output_type": "stream",
          "name": "stdout",
          "text": [
            "Train Loss: 1.1185301096963662, Validation Loss: 1.040711462660753\n",
            "Best Validation Loss: 1.0405620665533757\n",
            "Epoch 36 of 50\n"
          ]
        },
        {
          "output_type": "stream",
          "name": "stderr",
          "text": [
            "100%|██████████| 10418/10418 [00:25<00:00, 408.02it/s]\n",
            "100%|██████████| 3473/3473 [00:04<00:00, 732.54it/s]\n"
          ]
        },
        {
          "output_type": "stream",
          "name": "stdout",
          "text": [
            "Train Loss: 1.1165409298536073, Validation Loss: 1.0403828531924153\n",
            "Best Validation Loss: 1.0403828531924153\n",
            "Epoch 37 of 50\n"
          ]
        },
        {
          "output_type": "stream",
          "name": "stderr",
          "text": [
            "100%|██████████| 10418/10418 [00:25<00:00, 405.38it/s]\n",
            "100%|██████████| 3473/3473 [00:04<00:00, 794.12it/s]\n"
          ]
        },
        {
          "output_type": "stream",
          "name": "stdout",
          "text": [
            "Train Loss: 1.116193170464183, Validation Loss: 1.0403389860273884\n",
            "Best Validation Loss: 1.0403389860273884\n",
            "Epoch 38 of 50\n"
          ]
        },
        {
          "output_type": "stream",
          "name": "stderr",
          "text": [
            "100%|██████████| 10418/10418 [00:26<00:00, 394.32it/s]\n",
            "100%|██████████| 3473/3473 [00:04<00:00, 725.39it/s]\n"
          ]
        },
        {
          "output_type": "stream",
          "name": "stdout",
          "text": [
            "Train Loss: 1.1157878326246025, Validation Loss: 1.0403176927099713\n",
            "Best Validation Loss: 1.0403176927099713\n",
            "Epoch 39 of 50\n"
          ]
        },
        {
          "output_type": "stream",
          "name": "stderr",
          "text": [
            "100%|██████████| 10418/10418 [00:28<00:00, 364.52it/s]\n",
            "100%|██████████| 3473/3473 [00:05<00:00, 667.47it/s]\n"
          ]
        },
        {
          "output_type": "stream",
          "name": "stdout",
          "text": [
            "Train Loss: 1.1151010630472444, Validation Loss: 1.040374654764886\n",
            "Best Validation Loss: 1.0403176927099713\n",
            "Epoch 40 of 50\n"
          ]
        },
        {
          "output_type": "stream",
          "name": "stderr",
          "text": [
            "100%|██████████| 10418/10418 [00:28<00:00, 359.95it/s]\n",
            "100%|██████████| 3473/3473 [00:04<00:00, 755.27it/s]\n"
          ]
        },
        {
          "output_type": "stream",
          "name": "stdout",
          "text": [
            "Train Loss: 1.1142291249784222, Validation Loss: 1.0405438242025895\n",
            "Best Validation Loss: 1.0403176927099713\n",
            "Epoch 41 of 50\n"
          ]
        },
        {
          "output_type": "stream",
          "name": "stderr",
          "text": [
            "100%|██████████| 10418/10418 [00:29<00:00, 357.47it/s]\n",
            "100%|██████████| 3473/3473 [00:05<00:00, 666.42it/s]\n"
          ]
        },
        {
          "output_type": "stream",
          "name": "stdout",
          "text": [
            "Train Loss: 1.1141135482795868, Validation Loss: 1.040681621002389\n",
            "Best Validation Loss: 1.0403176927099713\n",
            "Epoch 42 of 50\n"
          ]
        },
        {
          "output_type": "stream",
          "name": "stderr",
          "text": [
            "100%|██████████| 10418/10418 [00:29<00:00, 358.15it/s]\n",
            "100%|██████████| 3473/3473 [00:04<00:00, 737.13it/s]\n"
          ]
        },
        {
          "output_type": "stream",
          "name": "stdout",
          "text": [
            "Train Loss: 1.1129030530392998, Validation Loss: 1.0408458826420393\n",
            "Best Validation Loss: 1.0403176927099713\n",
            "Epoch 43 of 50\n"
          ]
        },
        {
          "output_type": "stream",
          "name": "stderr",
          "text": [
            "100%|██████████| 10418/10418 [00:27<00:00, 385.07it/s]\n",
            "100%|██████████| 3473/3473 [00:05<00:00, 656.85it/s]\n"
          ]
        },
        {
          "output_type": "stream",
          "name": "stdout",
          "text": [
            "Train Loss: 1.1128404578210114, Validation Loss: 1.0406225925301256\n",
            "Best Validation Loss: 1.0403176927099713\n",
            "Epoch 44 of 50\n"
          ]
        },
        {
          "output_type": "stream",
          "name": "stderr",
          "text": [
            "100%|██████████| 10418/10418 [00:27<00:00, 383.94it/s]\n",
            "100%|██████████| 3473/3473 [00:04<00:00, 753.45it/s]\n"
          ]
        },
        {
          "output_type": "stream",
          "name": "stdout",
          "text": [
            "Train Loss: 1.1128439395034992, Validation Loss: 1.0438532380233263\n",
            "Best Validation Loss: 1.0403176927099713\n",
            "Epoch 45 of 50\n"
          ]
        },
        {
          "output_type": "stream",
          "name": "stderr",
          "text": [
            "100%|██████████| 10418/10418 [00:28<00:00, 363.41it/s]\n",
            "100%|██████████| 3473/3473 [00:05<00:00, 650.74it/s]\n"
          ]
        },
        {
          "output_type": "stream",
          "name": "stdout",
          "text": [
            "Train Loss: 1.1116518220778595, Validation Loss: 1.0420940908649763\n",
            "Best Validation Loss: 1.0403176927099713\n",
            "Epoch 46 of 50\n"
          ]
        },
        {
          "output_type": "stream",
          "name": "stderr",
          "text": [
            "100%|██████████| 10418/10418 [00:28<00:00, 363.26it/s]\n",
            "100%|██████████| 3473/3473 [00:04<00:00, 743.97it/s]\n"
          ]
        },
        {
          "output_type": "stream",
          "name": "stdout",
          "text": [
            "Train Loss: 1.1133025378063193, Validation Loss: 1.0433361562054198\n",
            "Best Validation Loss: 1.0403176927099713\n",
            "Epoch 47 of 50\n"
          ]
        },
        {
          "output_type": "stream",
          "name": "stderr",
          "text": [
            "100%|██████████| 10418/10418 [00:29<00:00, 356.51it/s]\n",
            "100%|██████████| 3473/3473 [00:05<00:00, 673.30it/s]\n"
          ]
        },
        {
          "output_type": "stream",
          "name": "stdout",
          "text": [
            "Train Loss: 1.1103992463531318, Validation Loss: 1.0425674009745312\n",
            "Best Validation Loss: 1.0403176927099713\n",
            "Epoch 48 of 50\n"
          ]
        },
        {
          "output_type": "stream",
          "name": "stderr",
          "text": [
            "100%|██████████| 10418/10418 [00:29<00:00, 354.24it/s]\n",
            "100%|██████████| 3473/3473 [00:04<00:00, 769.20it/s]\n"
          ]
        },
        {
          "output_type": "stream",
          "name": "stdout",
          "text": [
            "Train Loss: 1.110471983729683, Validation Loss: 1.0431124942380965\n",
            "Best Validation Loss: 1.0403176927099713\n",
            "Epoch 49 of 50\n"
          ]
        },
        {
          "output_type": "stream",
          "name": "stderr",
          "text": [
            "100%|██████████| 10418/10418 [00:26<00:00, 387.75it/s]\n",
            "100%|██████████| 3473/3473 [00:04<00:00, 800.20it/s]\n"
          ]
        },
        {
          "output_type": "stream",
          "name": "stdout",
          "text": [
            "Train Loss: 1.1106632096990785, Validation Loss: 1.042839816632272\n",
            "Best Validation Loss: 1.0403176927099713\n",
            "Epoch 50 of 50\n"
          ]
        },
        {
          "output_type": "stream",
          "name": "stderr",
          "text": [
            "100%|██████████| 10418/10418 [00:25<00:00, 405.43it/s]\n",
            "100%|██████████| 3473/3473 [00:05<00:00, 656.02it/s]\n"
          ]
        },
        {
          "output_type": "stream",
          "name": "stdout",
          "text": [
            "Train Loss: 1.1084890892304713, Validation Loss: 1.042501206789997\n",
            "Best Validation Loss: 1.0403176927099713\n"
          ]
        }
      ]
    },
    {
      "cell_type": "markdown",
      "source": [
        "Test the model"
      ],
      "metadata": {
        "id": "utvsL_F7gDzo"
      }
    },
    {
      "cell_type": "code",
      "source": [
        "train(train_loader, valid_loader,modelMulti, criterion, optimizer, device,\n",
        "      num_epochs, model_path_multihead)"
      ],
      "metadata": {
        "colab": {
          "base_uri": "https://localhost:8080/",
          "height": 356
        },
        "id": "Yc0DpNucbNtg",
        "outputId": "74dd6d63-9b1e-468b-f1db-93d25de45d34"
      },
      "execution_count": null,
      "outputs": [
        {
          "output_type": "stream",
          "name": "stdout",
          "text": [
            "Epoch 1 of 50\n"
          ]
        },
        {
          "output_type": "stream",
          "name": "stderr",
          "text": [
            "  0%|          | 0/10418 [00:00<?, ?it/s]\n"
          ]
        },
        {
          "output_type": "error",
          "ename": "RuntimeError",
          "evalue": "Expected all tensors to be on the same device, but found at least two devices, cpu and cuda:0! (when checking argument for argument mat1 in method wrapper_CUDA_addmm)",
          "traceback": [
            "\u001b[0;31m---------------------------------------------------------------------------\u001b[0m",
            "\u001b[0;31mRuntimeError\u001b[0m                              Traceback (most recent call last)",
            "\u001b[0;32m<ipython-input-43-447577a96746>\u001b[0m in \u001b[0;36m<cell line: 0>\u001b[0;34m()\u001b[0m\n\u001b[0;32m----> 1\u001b[0;31m train(train_loader, valid_loader,modelMulti, criterion, optimizer, device, \n\u001b[0m\u001b[1;32m      2\u001b[0m       num_epochs, model_path_multihead)\n",
            "\u001b[0;32m<ipython-input-9-94c7de4da432>\u001b[0m in \u001b[0;36mtrain\u001b[0;34m(train_loader, valid_loader, model, criterion, optimizer, device, num_epochs, model_path)\u001b[0m\n\u001b[1;32m     23\u001b[0m             \u001b[0mbatch_data\u001b[0m \u001b[0;34m=\u001b[0m \u001b[0mbatch_data\u001b[0m\u001b[0;34m.\u001b[0m\u001b[0mto\u001b[0m\u001b[0;34m(\u001b[0m\u001b[0mdevice\u001b[0m\u001b[0;34m)\u001b[0m\u001b[0;34m\u001b[0m\u001b[0;34m\u001b[0m\u001b[0m\n\u001b[1;32m     24\u001b[0m             \u001b[0;31m# Forward pass\u001b[0m\u001b[0;34m\u001b[0m\u001b[0;34m\u001b[0m\u001b[0m\n\u001b[0;32m---> 25\u001b[0;31m             \u001b[0mbatch_output\u001b[0m \u001b[0;34m=\u001b[0m \u001b[0mmodel\u001b[0m\u001b[0;34m(\u001b[0m\u001b[0mbatch_data\u001b[0m\u001b[0;34m)\u001b[0m\u001b[0;34m\u001b[0m\u001b[0;34m\u001b[0m\u001b[0m\n\u001b[0m\u001b[1;32m     26\u001b[0m             \u001b[0mbatch_output\u001b[0m \u001b[0;34m=\u001b[0m \u001b[0mtorch\u001b[0m\u001b[0;34m.\u001b[0m\u001b[0msqueeze\u001b[0m\u001b[0;34m(\u001b[0m\u001b[0mbatch_output\u001b[0m\u001b[0;34m)\u001b[0m\u001b[0;34m\u001b[0m\u001b[0;34m\u001b[0m\u001b[0m\n\u001b[1;32m     27\u001b[0m             \u001b[0;31m# Calculate loss\u001b[0m\u001b[0;34m\u001b[0m\u001b[0;34m\u001b[0m\u001b[0m\n",
            "\u001b[0;32m/usr/local/lib/python3.11/dist-packages/torch/nn/modules/module.py\u001b[0m in \u001b[0;36m_wrapped_call_impl\u001b[0;34m(self, *args, **kwargs)\u001b[0m\n\u001b[1;32m   1734\u001b[0m             \u001b[0;32mreturn\u001b[0m \u001b[0mself\u001b[0m\u001b[0;34m.\u001b[0m\u001b[0m_compiled_call_impl\u001b[0m\u001b[0;34m(\u001b[0m\u001b[0;34m*\u001b[0m\u001b[0margs\u001b[0m\u001b[0;34m,\u001b[0m \u001b[0;34m**\u001b[0m\u001b[0mkwargs\u001b[0m\u001b[0;34m)\u001b[0m  \u001b[0;31m# type: ignore[misc]\u001b[0m\u001b[0;34m\u001b[0m\u001b[0;34m\u001b[0m\u001b[0m\n\u001b[1;32m   1735\u001b[0m         \u001b[0;32melse\u001b[0m\u001b[0;34m:\u001b[0m\u001b[0;34m\u001b[0m\u001b[0;34m\u001b[0m\u001b[0m\n\u001b[0;32m-> 1736\u001b[0;31m             \u001b[0;32mreturn\u001b[0m \u001b[0mself\u001b[0m\u001b[0;34m.\u001b[0m\u001b[0m_call_impl\u001b[0m\u001b[0;34m(\u001b[0m\u001b[0;34m*\u001b[0m\u001b[0margs\u001b[0m\u001b[0;34m,\u001b[0m \u001b[0;34m**\u001b[0m\u001b[0mkwargs\u001b[0m\u001b[0;34m)\u001b[0m\u001b[0;34m\u001b[0m\u001b[0;34m\u001b[0m\u001b[0m\n\u001b[0m\u001b[1;32m   1737\u001b[0m \u001b[0;34m\u001b[0m\u001b[0m\n\u001b[1;32m   1738\u001b[0m     \u001b[0;31m# torchrec tests the code consistency with the following code\u001b[0m\u001b[0;34m\u001b[0m\u001b[0;34m\u001b[0m\u001b[0m\n",
            "\u001b[0;32m/usr/local/lib/python3.11/dist-packages/torch/nn/modules/module.py\u001b[0m in \u001b[0;36m_call_impl\u001b[0;34m(self, *args, **kwargs)\u001b[0m\n\u001b[1;32m   1745\u001b[0m                 \u001b[0;32mor\u001b[0m \u001b[0m_global_backward_pre_hooks\u001b[0m \u001b[0;32mor\u001b[0m \u001b[0m_global_backward_hooks\u001b[0m\u001b[0;34m\u001b[0m\u001b[0;34m\u001b[0m\u001b[0m\n\u001b[1;32m   1746\u001b[0m                 or _global_forward_hooks or _global_forward_pre_hooks):\n\u001b[0;32m-> 1747\u001b[0;31m             \u001b[0;32mreturn\u001b[0m \u001b[0mforward_call\u001b[0m\u001b[0;34m(\u001b[0m\u001b[0;34m*\u001b[0m\u001b[0margs\u001b[0m\u001b[0;34m,\u001b[0m \u001b[0;34m**\u001b[0m\u001b[0mkwargs\u001b[0m\u001b[0;34m)\u001b[0m\u001b[0;34m\u001b[0m\u001b[0;34m\u001b[0m\u001b[0m\n\u001b[0m\u001b[1;32m   1748\u001b[0m \u001b[0;34m\u001b[0m\u001b[0m\n\u001b[1;32m   1749\u001b[0m         \u001b[0mresult\u001b[0m \u001b[0;34m=\u001b[0m \u001b[0;32mNone\u001b[0m\u001b[0;34m\u001b[0m\u001b[0;34m\u001b[0m\u001b[0m\n",
            "\u001b[0;32m<ipython-input-34-a1e2313d5a48>\u001b[0m in \u001b[0;36mforward\u001b[0;34m(self, input_data)\u001b[0m\n\u001b[1;32m     20\u001b[0m \u001b[0;34m\u001b[0m\u001b[0m\n\u001b[1;32m     21\u001b[0m         \u001b[0;31m# Project input to query, key, and value\u001b[0m\u001b[0;34m\u001b[0m\u001b[0;34m\u001b[0m\u001b[0m\n\u001b[0;32m---> 22\u001b[0;31m         \u001b[0mquery\u001b[0m \u001b[0;34m=\u001b[0m \u001b[0mself\u001b[0m\u001b[0;34m.\u001b[0m\u001b[0mquery_linear\u001b[0m\u001b[0;34m(\u001b[0m\u001b[0minput_data\u001b[0m\u001b[0;34m)\u001b[0m\u001b[0;34m\u001b[0m\u001b[0;34m\u001b[0m\u001b[0m\n\u001b[0m\u001b[1;32m     23\u001b[0m         \u001b[0mkey\u001b[0m \u001b[0;34m=\u001b[0m \u001b[0mself\u001b[0m\u001b[0;34m.\u001b[0m\u001b[0mkey_linear\u001b[0m\u001b[0;34m(\u001b[0m\u001b[0minput_data\u001b[0m\u001b[0;34m)\u001b[0m\u001b[0;34m\u001b[0m\u001b[0;34m\u001b[0m\u001b[0m\n\u001b[1;32m     24\u001b[0m         \u001b[0mvalue\u001b[0m \u001b[0;34m=\u001b[0m \u001b[0mself\u001b[0m\u001b[0;34m.\u001b[0m\u001b[0mvalue_linear\u001b[0m\u001b[0;34m(\u001b[0m\u001b[0minput_data\u001b[0m\u001b[0;34m)\u001b[0m\u001b[0;34m\u001b[0m\u001b[0;34m\u001b[0m\u001b[0m\n",
            "\u001b[0;32m/usr/local/lib/python3.11/dist-packages/torch/nn/modules/module.py\u001b[0m in \u001b[0;36m_wrapped_call_impl\u001b[0;34m(self, *args, **kwargs)\u001b[0m\n\u001b[1;32m   1734\u001b[0m             \u001b[0;32mreturn\u001b[0m \u001b[0mself\u001b[0m\u001b[0;34m.\u001b[0m\u001b[0m_compiled_call_impl\u001b[0m\u001b[0;34m(\u001b[0m\u001b[0;34m*\u001b[0m\u001b[0margs\u001b[0m\u001b[0;34m,\u001b[0m \u001b[0;34m**\u001b[0m\u001b[0mkwargs\u001b[0m\u001b[0;34m)\u001b[0m  \u001b[0;31m# type: ignore[misc]\u001b[0m\u001b[0;34m\u001b[0m\u001b[0;34m\u001b[0m\u001b[0m\n\u001b[1;32m   1735\u001b[0m         \u001b[0;32melse\u001b[0m\u001b[0;34m:\u001b[0m\u001b[0;34m\u001b[0m\u001b[0;34m\u001b[0m\u001b[0m\n\u001b[0;32m-> 1736\u001b[0;31m             \u001b[0;32mreturn\u001b[0m \u001b[0mself\u001b[0m\u001b[0;34m.\u001b[0m\u001b[0m_call_impl\u001b[0m\u001b[0;34m(\u001b[0m\u001b[0;34m*\u001b[0m\u001b[0margs\u001b[0m\u001b[0;34m,\u001b[0m \u001b[0;34m**\u001b[0m\u001b[0mkwargs\u001b[0m\u001b[0;34m)\u001b[0m\u001b[0;34m\u001b[0m\u001b[0;34m\u001b[0m\u001b[0m\n\u001b[0m\u001b[1;32m   1737\u001b[0m \u001b[0;34m\u001b[0m\u001b[0m\n\u001b[1;32m   1738\u001b[0m     \u001b[0;31m# torchrec tests the code consistency with the following code\u001b[0m\u001b[0;34m\u001b[0m\u001b[0;34m\u001b[0m\u001b[0m\n",
            "\u001b[0;32m/usr/local/lib/python3.11/dist-packages/torch/nn/modules/module.py\u001b[0m in \u001b[0;36m_call_impl\u001b[0;34m(self, *args, **kwargs)\u001b[0m\n\u001b[1;32m   1745\u001b[0m                 \u001b[0;32mor\u001b[0m \u001b[0m_global_backward_pre_hooks\u001b[0m \u001b[0;32mor\u001b[0m \u001b[0m_global_backward_hooks\u001b[0m\u001b[0;34m\u001b[0m\u001b[0;34m\u001b[0m\u001b[0m\n\u001b[1;32m   1746\u001b[0m                 or _global_forward_hooks or _global_forward_pre_hooks):\n\u001b[0;32m-> 1747\u001b[0;31m             \u001b[0;32mreturn\u001b[0m \u001b[0mforward_call\u001b[0m\u001b[0;34m(\u001b[0m\u001b[0;34m*\u001b[0m\u001b[0margs\u001b[0m\u001b[0;34m,\u001b[0m \u001b[0;34m**\u001b[0m\u001b[0mkwargs\u001b[0m\u001b[0;34m)\u001b[0m\u001b[0;34m\u001b[0m\u001b[0;34m\u001b[0m\u001b[0m\n\u001b[0m\u001b[1;32m   1748\u001b[0m \u001b[0;34m\u001b[0m\u001b[0m\n\u001b[1;32m   1749\u001b[0m         \u001b[0mresult\u001b[0m \u001b[0;34m=\u001b[0m \u001b[0;32mNone\u001b[0m\u001b[0;34m\u001b[0m\u001b[0;34m\u001b[0m\u001b[0m\n",
            "\u001b[0;32m/usr/local/lib/python3.11/dist-packages/torch/nn/modules/linear.py\u001b[0m in \u001b[0;36mforward\u001b[0;34m(self, input)\u001b[0m\n\u001b[1;32m    123\u001b[0m \u001b[0;34m\u001b[0m\u001b[0m\n\u001b[1;32m    124\u001b[0m     \u001b[0;32mdef\u001b[0m \u001b[0mforward\u001b[0m\u001b[0;34m(\u001b[0m\u001b[0mself\u001b[0m\u001b[0;34m,\u001b[0m \u001b[0minput\u001b[0m\u001b[0;34m:\u001b[0m \u001b[0mTensor\u001b[0m\u001b[0;34m)\u001b[0m \u001b[0;34m->\u001b[0m \u001b[0mTensor\u001b[0m\u001b[0;34m:\u001b[0m\u001b[0;34m\u001b[0m\u001b[0;34m\u001b[0m\u001b[0m\n\u001b[0;32m--> 125\u001b[0;31m         \u001b[0;32mreturn\u001b[0m \u001b[0mF\u001b[0m\u001b[0;34m.\u001b[0m\u001b[0mlinear\u001b[0m\u001b[0;34m(\u001b[0m\u001b[0minput\u001b[0m\u001b[0;34m,\u001b[0m \u001b[0mself\u001b[0m\u001b[0;34m.\u001b[0m\u001b[0mweight\u001b[0m\u001b[0;34m,\u001b[0m \u001b[0mself\u001b[0m\u001b[0;34m.\u001b[0m\u001b[0mbias\u001b[0m\u001b[0;34m)\u001b[0m\u001b[0;34m\u001b[0m\u001b[0;34m\u001b[0m\u001b[0m\n\u001b[0m\u001b[1;32m    126\u001b[0m \u001b[0;34m\u001b[0m\u001b[0m\n\u001b[1;32m    127\u001b[0m     \u001b[0;32mdef\u001b[0m \u001b[0mextra_repr\u001b[0m\u001b[0;34m(\u001b[0m\u001b[0mself\u001b[0m\u001b[0;34m)\u001b[0m \u001b[0;34m->\u001b[0m \u001b[0mstr\u001b[0m\u001b[0;34m:\u001b[0m\u001b[0;34m\u001b[0m\u001b[0;34m\u001b[0m\u001b[0m\n",
            "\u001b[0;31mRuntimeError\u001b[0m: Expected all tensors to be on the same device, but found at least two devices, cpu and cuda:0! (when checking argument for argument mat1 in method wrapper_CUDA_addmm)"
          ]
        }
      ]
    },
    {
      "cell_type": "code",
      "source": [
        "test(test_loader, model, criterion, device)"
      ],
      "metadata": {
        "colab": {
          "base_uri": "https://localhost:8080/"
        },
        "id": "khNr77ZygFVI",
        "outputId": "1fd79ace-8f14-4d27-ae04-e2bd99a28fe3"
      },
      "execution_count": null,
      "outputs": [
        {
          "output_type": "stream",
          "name": "stderr",
          "text": [
            "100%|██████████| 3473/3473 [00:06<00:00, 517.20it/s]"
          ]
        },
        {
          "output_type": "stream",
          "name": "stdout",
          "text": [
            "Test Loss: 1.0380816694521746, Test Accuracy: 0.648605803209172\n"
          ]
        },
        {
          "output_type": "stream",
          "name": "stderr",
          "text": [
            "\n"
          ]
        }
      ]
    },
    {
      "cell_type": "markdown",
      "source": [
        "#Predict on new text"
      ],
      "metadata": {
        "id": "BD-2KEvZgHvT"
      }
    },
    {
      "cell_type": "code",
      "source": [
        "input_text = '''I am a victim of Identity Theft & currently have an Experian account that\n",
        "I can view my Experian Credit Report and getting notified when there is activity on\n",
        "my Experian Credit Report. For the past 3 days I've spent a total of approximately 9\n",
        "hours on the phone with Experian. Every time I call I get transferred repeatedly and\n",
        "then my last transfer and automated message states to press 1 and leave a message and\n",
        "someone would call me. Every time I press 1 I get an automatic message stating than you\n",
        "before I even leave a message and get disconnected. I call Experian again, explain what\n",
        "is happening and the process begins again with the same end result. I was trying to have\n",
        "this issue attended and resolved informally but I give up after 9 hours. There are hard\n",
        "hit inquiries on my Experian Credit Report that are fraud, I didn't authorize, or recall\n",
        "and I respectfully request that Experian remove the hard hit inquiries immediately just\n",
        "like they've done in the past when I was able to speak to a live Experian representative\n",
        "in the United States. The following are the hard hit inquiries : BK OF XXXX XX/XX/XXXX\n",
        "XXXX XXXX XXXX  XX/XX/XXXX XXXX  XXXX XXXX  XX/XX/XXXX XXXX  XX/XX/XXXX XXXX  XXXX\n",
        "XX/XX/XXXX'''"
      ],
      "metadata": {
        "id": "w-mQIBpLgIdQ"
      },
      "execution_count": null,
      "outputs": []
    },
    {
      "cell_type": "markdown",
      "source": [
        "Process input text"
      ],
      "metadata": {
        "id": "Vs0qechPgK9I"
      }
    },
    {
      "cell_type": "code",
      "source": [
        "input_text = input_text.lower()\n",
        "input_text = re.sub(r\"[^\\w\\d'\\s]+\", \" \", input_text)\n",
        "input_text = re.sub(\"\\d+\", \"\", input_text)\n",
        "input_text = re.sub(r'[x]{2,}', \"\", input_text)\n",
        "input_text = re.sub(' +', ' ', input_text)\n",
        "tokens = word_tokenize(input_text)"
      ],
      "metadata": {
        "id": "Gtb9JaN-gMeR"
      },
      "execution_count": null,
      "outputs": []
    },
    {
      "cell_type": "code",
      "source": [
        "tokens = ['<pad>']*(20-len(tokens))+tokens"
      ],
      "metadata": {
        "id": "woepmNhBgORQ"
      },
      "execution_count": null,
      "outputs": []
    },
    {
      "cell_type": "code",
      "source": [
        "idx_token = []\n",
        "for token in tokens:\n",
        "    if token in vocabulary:\n",
        "        idx_token.append(vocabulary.index(token))\n",
        "    else:\n",
        "        idx_token.append(vocabulary.index('<unk>'))"
      ],
      "metadata": {
        "id": "j6QhkvQ8gPGS"
      },
      "execution_count": null,
      "outputs": []
    },
    {
      "cell_type": "code",
      "source": [
        "token_emb = embeddings[idx_token,:]\n",
        "token_emb = token_emb[:seq_len, :]\n",
        "inp = torch.from_numpy(token_emb)"
      ],
      "metadata": {
        "id": "cZjZGz5vgQiy"
      },
      "execution_count": null,
      "outputs": []
    },
    {
      "cell_type": "code",
      "source": [
        "inp = torch.cat((torch.ones(inp.shape[0],1), inp), dim=1)"
      ],
      "metadata": {
        "id": "bDjIxY2agSKB"
      },
      "execution_count": null,
      "outputs": []
    },
    {
      "cell_type": "code",
      "source": [
        "device = torch.device(\"cuda:0\" if torch.cuda.is_available()\n",
        "                      else \"cpu\")"
      ],
      "metadata": {
        "id": "YTg3_m9ngUi5"
      },
      "execution_count": null,
      "outputs": []
    },
    {
      "cell_type": "code",
      "source": [
        "inp = inp.to(device)\n",
        "inp = torch.unsqueeze(inp, 0)"
      ],
      "metadata": {
        "id": "fmK8gR-JgW8Y"
      },
      "execution_count": null,
      "outputs": []
    },
    {
      "cell_type": "code",
      "source": [
        "label_encoder = load_file(label_encoder_path)\n",
        "num_classes = len(label_encoder.classes_)"
      ],
      "metadata": {
        "id": "hwBRh9MsgY2I"
      },
      "execution_count": null,
      "outputs": []
    },
    {
      "cell_type": "code",
      "source": [
        "# Create model object\n",
        "model = AttentionModel(vec_len, seq_len, num_classes)\n",
        "\n",
        "# Load trained weights\n",
        "model.load_state_dict(torch.load(model_path))\n",
        "\n",
        "# Move the model to GPU if available\n",
        "if torch.cuda.is_available():\n",
        "    model = model.cuda()\n",
        "\n",
        "# Forward pass\n",
        "out = torch.squeeze(model(inp))\n",
        "\n",
        "# Find predicted class\n",
        "prediction = label_encoder.classes_[torch.argmax(out)]\n",
        "print(f\"Predicted  Class: {prediction}\")"
      ],
      "metadata": {
        "colab": {
          "base_uri": "https://localhost:8080/"
        },
        "id": "GG5fASM5gahA",
        "outputId": "3324283c-80ed-4cfd-99cb-cbbb6d091365"
      },
      "execution_count": null,
      "outputs": [
        {
          "output_type": "stream",
          "name": "stdout",
          "text": [
            "Predicted  Class: credit_report\n"
          ]
        },
        {
          "output_type": "stream",
          "name": "stderr",
          "text": [
            "<ipython-input-34-c6eeda1fc3f5>:5: FutureWarning: You are using `torch.load` with `weights_only=False` (the current default value), which uses the default pickle module implicitly. It is possible to construct malicious pickle data which will execute arbitrary code during unpickling (See https://github.com/pytorch/pytorch/blob/main/SECURITY.md#untrusted-models for more details). In a future release, the default value for `weights_only` will be flipped to `True`. This limits the functions that could be executed during unpickling. Arbitrary objects will no longer be allowed to be loaded via this mode unless they are explicitly allowlisted by the user via `torch.serialization.add_safe_globals`. We recommend you start setting `weights_only=True` for any use case where you don't have full control of the loaded file. Please open an issue on GitHub for any issues related to this experimental feature.\n",
            "  model.load_state_dict(torch.load(model_path))\n"
          ]
        }
      ]
    },
    {
      "cell_type": "markdown",
      "source": [
        "#save model"
      ],
      "metadata": {
        "id": "5LYNaQxTqrnf"
      }
    },
    {
      "cell_type": "code",
      "source": [
        "import torch\n",
        "\n",
        "def save_model(model, model_path):\n",
        "    \"\"\"\n",
        "    Saves the model to a file.\n",
        "\n",
        "    Args:\n",
        "        model: The model to save.\n",
        "        model_path: The path to save the model to.\n",
        "    \"\"\"\n",
        "    torch.save(model.state_dict(), model_path)\n",
        "    print(f\"Model saved to {model_path}\")\n",
        "\n",
        "def load_model(model, model_path):\n",
        "    \"\"\"\n",
        "    Loads the model from a file.\n",
        "\n",
        "    Args:\n",
        "        model: The model to load.\n",
        "        model_path: The path to load the model from.\n",
        "    \"\"\"\n",
        "    model.load_state_dict(torch.load(model_path))\n",
        "    print(f\"Model loaded from {model_path}\")"
      ],
      "metadata": {
        "id": "oZWtmYTgqrZ4"
      },
      "execution_count": null,
      "outputs": []
    },
    {
      "cell_type": "code",
      "source": [
        "model_path = \"/content/drive/MyDrive/TextClassificationAttention/models\"\n",
        "# Create an instance of the model\n",
        "model_instance = AttentionModel(vec_len, seq_len, num_classes)\n",
        "save_model(model_instance, model_path)  # Save the model instance"
      ],
      "metadata": {
        "colab": {
          "base_uri": "https://localhost:8080/"
        },
        "id": "BNflyh9RqwbI",
        "outputId": "06a2ac25-810b-45b6-8e3c-c5576e261a0d"
      },
      "execution_count": null,
      "outputs": [
        {
          "output_type": "stream",
          "name": "stdout",
          "text": [
            "Model saved to /content/drive/MyDrive/TextClassificationAttention/models\n"
          ]
        }
      ]
    },
    {
      "cell_type": "code",
      "source": [
        "model = AttentionModel(vec_len, seq_len, num_classes)  # Create the model instance\n",
        "load_model(model, model_path)  # Load the saved weights"
      ],
      "metadata": {
        "colab": {
          "base_uri": "https://localhost:8080/"
        },
        "id": "caJgYwJdqxzH",
        "outputId": "a8598e23-98af-444a-e5ce-96aba0faf45b"
      },
      "execution_count": null,
      "outputs": [
        {
          "output_type": "stream",
          "name": "stdout",
          "text": [
            "Model loaded from /content/drive/MyDrive/TextClassificationAttention/models\n"
          ]
        },
        {
          "output_type": "stream",
          "name": "stderr",
          "text": [
            "<ipython-input-35-ff72fdc4ab4f>:22: FutureWarning: You are using `torch.load` with `weights_only=False` (the current default value), which uses the default pickle module implicitly. It is possible to construct malicious pickle data which will execute arbitrary code during unpickling (See https://github.com/pytorch/pytorch/blob/main/SECURITY.md#untrusted-models for more details). In a future release, the default value for `weights_only` will be flipped to `True`. This limits the functions that could be executed during unpickling. Arbitrary objects will no longer be allowed to be loaded via this mode unless they are explicitly allowlisted by the user via `torch.serialization.add_safe_globals`. We recommend you start setting `weights_only=True` for any use case where you don't have full control of the loaded file. Please open an issue on GitHub for any issues related to this experimental feature.\n",
            "  model.load_state_dict(torch.load(model_path))\n"
          ]
        }
      ]
    }
  ],
  "metadata": {
    "accelerator": "GPU",
    "colab": {
      "gpuType": "T4",
      "provenance": [],
      "collapsed_sections": [
        "2uwoUzvvnvn6",
        "DleSFNb57lKD",
        "QTz5jq6Q5lfE",
        "emAUjvb36Mh8",
        "bPuy4-Ax6vs6",
        "rosMMWOA63eE",
        "poZ7ioFL7Hu3",
        "QU4nPMHf7rl6",
        "BP16KhR27wcr",
        "8MIRMH4k70s7",
        "PTiWqkj277Si",
        "mAU4GSVI8Byz",
        "1PovRhgP_mXc"
      ]
    },
    "kernelspec": {
      "display_name": "Python 3",
      "name": "python3"
    },
    "language_info": {
      "name": "python"
    }
  },
  "nbformat": 4,
  "nbformat_minor": 0
}